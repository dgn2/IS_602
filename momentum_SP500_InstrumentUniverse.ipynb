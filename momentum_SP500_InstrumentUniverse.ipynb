{
 "cells": [
  {
   "cell_type": "markdown",
   "metadata": {},
   "source": [
    "# Momentum in the S&P500 Universe"
   ]
  },
  {
   "cell_type": "markdown",
   "metadata": {},
   "source": [
    "# Introduction"
   ]
  },
  {
   "cell_type": "markdown",
   "metadata": {
    "collapsed": true
   },
   "source": [
    "Although the public equity markets are highly accessible for nearly all classes of global investors, these markets pose some significant challenges. In particular, there is a significant degree of co-movement across single stocks, making the construction of a well-diversified portfolio difficult. The high degree of co-movement makes an investor vulnerable to broad-based declines in equity markets. \n",
    "\n",
    "One of the simplest and most effective strategies employed by active investors to control the risk associated with broad-based declines and enhance performance when markets are rising, involves exploiting a well-known stylized fact of equity markets, namely that stocks that are moving strongly in a particular direction have a tendency to continue to move in the same direction (i.e., they possess ‘momentum’). Momentum investing systems focus on identifying stocks that are moving persistently in a particular direction and taking a position to benefit from the directional movement. The long-only version of such strategies buys stocks that are rising most persistently and exits long positions when markets reverse.\n",
    "\n",
    "To reduce the volatility of such a strategy, stocks that move together are typically grouped and bet as though they represent a single ‘factor’. Indeed, the most challenging aspect of a momentum system is not the identification of momentum stocks, but rather the selection of diverse groups of stocks that – when held together – provide portfolio return smoothing. In this paper we explore the sensitivity of suck a strategy to directional movement and explore the dependence between stocks held in the strategy portfolio using principal component analysis.\n",
    "\n",
    "This paper is composed of four main sections encompassing the entire data science workflow.\n",
    "\n",
    "### Section 1: Data\n",
    "In the first section of the paper, we review the Python functions used to acquire data employed in the other sections.\n",
    "\n",
    "### Section 2: Momentum Strategy Overview\n",
    "In the second section of the paper, we implement an equity momentum strategy in Python and highlight some of its basic characteristics.\n",
    "\n",
    "### Section 3: Modeling\n",
    "In the third section of the paper, we provide an overview of the theory underlying the statistical factor model we use to explore the relatinship beteen stocks in our chosen universe, then conduct some limited sensitivity analysis and historical back-testing.\n",
    "\n",
    "### Section 4: Conclusions\n",
    "In the final section of the paper we provide our conclusions about the project."
   ]
  },
  {
   "cell_type": "markdown",
   "metadata": {},
   "source": [
    "## Set-Up"
   ]
  },
  {
   "cell_type": "markdown",
   "metadata": {},
   "source": [
    "The following packages are used and must be installed:"
   ]
  },
  {
   "cell_type": "code",
   "execution_count": 2,
   "metadata": {
    "collapsed": false
   },
   "outputs": [],
   "source": [
    "# inline matplotlib\n",
    "%matplotlib inline\n",
    "\n",
    "# import the packages required for the project\n",
    "import MySQLdb\n",
    "import matplotlib.pyplot as plt\n",
    "import seaborn\n",
    "from timeit import default_timer as timer\n",
    "import datetime\n",
    "import dateutil\n",
    "import requests\n",
    "import pandas\n",
    "import os\n",
    "import shutil\n",
    "import math\n",
    "import numpy\n",
    "import pandas.io.sql as sql\n",
    "from pandas.tseries.offsets import CustomBusinessDay,MonthBegin\n",
    "import pandas_datareader.data as web"
   ]
  },
  {
   "cell_type": "markdown",
   "metadata": {},
   "source": [
    "This project also requires that MySQL be installed. \n",
    "\n",
    "Before running the project with the 'dataAcquisitionFlag' set to 'True', one must create a MySQL database called 'global_monitoring' and provide the database parameters listed immediately below."
   ]
  },
  {
   "cell_type": "code",
   "execution_count": 3,
   "metadata": {
    "collapsed": false
   },
   "outputs": [],
   "source": [
    "# database parameters (mysql)\n",
    "dbHost='localhost'\n",
    "dbPort=3306\n",
    "dbUser='root'\n",
    "dbPassword='TGDNrx78'\n",
    "databaseName='global_monitoring'"
   ]
  },
  {
   "cell_type": "markdown",
   "metadata": {},
   "source": [
    "Setting the 'dataAcquisitionFlag' to 'True' will create the required directories under the base directory provided immediately below and run the portions of code used to fetch the iShares holdings files and yahoo price data for the date range (also set below)."
   ]
  },
  {
   "cell_type": "code",
   "execution_count": 4,
   "metadata": {
    "collapsed": true
   },
   "outputs": [],
   "source": [
    "# select a base directory where the project will create folders to store data\n",
    "baseDirectory='C:/Users/DerekG/Documents/github/IS602/'\n",
    "\n",
    "# set flags\n",
    "dataAcquisitionFlag=True\n",
    "\n",
    "# set the start date\n",
    "startDate = datetime.datetime(2006,10,31,0,0,0)\n",
    "# set the end date\n",
    "endDate = datetime.datetime(2015,11,30,0,0,0)"
   ]
  },
  {
   "cell_type": "markdown",
   "metadata": {},
   "source": [
    "If the project has been pulled from github, then the 'dataAcquisitionFlag' can be set to 'False' and data will be loaded from the HDF5 files associated with the project."
   ]
  },
  {
   "cell_type": "markdown",
   "metadata": {},
   "source": [
    "# Data"
   ]
  },
  {
   "cell_type": "markdown",
   "metadata": {},
   "source": [
    "In this section of the paper we acquire, transform and load the iShares ETF holdings data. This data is then used to acquire the price data for all of the constituents of the iShares S&P500 ETF available from yahoo finance over the period between 2006-10-31 and 2015-11-30 (set above)."
   ]
  },
  {
   "cell_type": "markdown",
   "metadata": {},
   "source": [
    "## Raw Data Acquisition/Extraction, Transformation, and Loading (ETL)"
   ]
  },
  {
   "cell_type": "markdown",
   "metadata": {},
   "source": [
    "In this section we acquire the data required to backtest our simple trading strategy, namely the iShares ETF constituent holdings data and the associated price data."
   ]
  },
  {
   "cell_type": "markdown",
   "metadata": {},
   "source": [
    "The following utility functions are used to connect to the MySQL database, show tables, determine whether a table exists or disconnect from the database:"
   ]
  },
  {
   "cell_type": "code",
   "execution_count": 5,
   "metadata": {
    "collapsed": true
   },
   "outputs": [],
   "source": [
    "def dbConnect(dbHost,dbPort,dbUser,dbPassword,databaseName):\n",
    "\n",
    "    try:\n",
    "        dbHandle=MySQLdb.connect(host=dbHost, port=int(dbPort), \n",
    "        user=dbUser, passwd=dbPassword, db=databaseName)\n",
    "        print(\"Connected to \" + databaseName + \" on \" + dbHost + \":\" + str(dbPort))\n",
    "        return dbHandle\n",
    "    \n",
    "    except MySQLdb.Error,e:\n",
    "        print(\"Cannot connect to \"  + databaseName + \" on \" + dbHost + \":\" + str(dbPort))\n",
    "        print (\"Error code:\",e.args[0])\n",
    "        print (\"Error message:\",e.args[1])\n",
    "\n",
    "    return\n",
    "\n",
    "def dbDisconnect(dbHandle):\n",
    "\n",
    "    try:\n",
    "        dbHandle.close()\n",
    "        print(\"disconnected...\")\n",
    "        \n",
    "    except:\n",
    "        print (\"database handle is not valid\")\n",
    "\n",
    "def showTablesLike(dbHandle,tableName):\n",
    "\n",
    "    query=\"SHOW TABLES LIKE '\" + str(tableName) + \"';\"\n",
    "    cursor = dbHandle.cursor()\n",
    "    cursor.execute(query)\n",
    "\n",
    "    tableNameList=list()\n",
    "    for table in cursor.fetchall():\n",
    "        tableNameList.append(str(table[0]))\n",
    "            \n",
    "    return tableNameList\n",
    "\n",
    "def doesTableExist(dbHandle,tableName):\n",
    "\n",
    "    tableNameList=showTablesLike(dbHandle,tableName)\n",
    "    if len(tableNameList) > 0:\n",
    "        flag=True\n",
    "    else:\n",
    "        flag=False\n",
    "            \n",
    "    return flag"
   ]
  },
  {
   "cell_type": "markdown",
   "metadata": {},
   "source": [
    "### iShares ETF Holdings Data Acquisition"
   ]
  },
  {
   "cell_type": "markdown",
   "metadata": {},
   "source": [
    "The following functions are used to iterate over the available months of iShares holdings data and download the files:"
   ]
  },
  {
   "cell_type": "code",
   "execution_count": 6,
   "metadata": {
    "collapsed": true
   },
   "outputs": [],
   "source": [
    "def ensure_directory(f):\n",
    "    d = os.path.dirname(f)\n",
    "    if not os.path.exists(d):\n",
    "        os.makedirs(d)\n",
    "\n",
    "def fetchISharesUsHoldings(outputDirectory,productId,productName,fundTicker,asOfDate):    \n",
    "    # set the URL\n",
    "    url=\"https://www.ishares.com/us/products/\"+productId+\"/\"+productName+\"/1449138789749.ajax?fileType=csv&fileName=\"+fundTicker+\"_holdings&dataType=fund&asOfDate=\"+asOfDate.strftime('%Y/%m/%d')\n",
    "    # fetch the page\n",
    "    r = requests.get(url)\n",
    "    # create theoutput file name\n",
    "    outputFileName=fundTicker+\"_holdings_\"+asOfDate.strftime('%Y%m%d')    \n",
    "    # create the file handle\n",
    "    outputFileHandle = open(outputDirectory+outputFileName,'w')\n",
    "    # write the write\n",
    "    outputFileHandle.write(r.content)\n",
    "    # close the output file\n",
    "    outputFileHandle.close()\n",
    "    # return the output file name\n",
    "    return outputFileName\n",
    " \n",
    "def fetchISharesUsHoldingsForDateRange(startDateTime, endDateTime,iSharesUS,errorFileHandle):\n",
    "    # create the date range\n",
    "    asOfDates = pandas.bdate_range(startDateTime, endDateTime,freq='M')\n",
    "    # iterate over each fund\n",
    "    for fundName in iSharesUS:\n",
    "        # fetch the fund product id and name\n",
    "        fundIdentifiers=iSharesUS[fundName]\n",
    "        fundIdentifiers=fundIdentifiers.split('|')\n",
    "        fundTicker=fundIdentifiers[0]\n",
    "        # extract the product id\n",
    "        productId=fundIdentifiers[1]\n",
    "        # extract the product name\n",
    "        productName=fundIdentifiers[2]    \n",
    "        # iterate over each as of date\n",
    "        for asOfDate in asOfDates:\n",
    "            # create the output file name\n",
    "            outputFileName=fundTicker+\"_holdings_\"+asOfDate.strftime('%Y%m%d')\n",
    "            \n",
    "            try:\n",
    "                # fetch iShares holdings\n",
    "                fetchISharesUsHoldings(outputDirectory,productId,productName,fundTicker,asOfDate)\n",
    "                # check the file size\n",
    "                fileSize=os.path.getsize(outputDirectory+outputFileName)\n",
    "                # check file size\n",
    "                if (fileSize<=4):\n",
    "                    try:\n",
    "                        # remove empty file        \n",
    "                        os.remove(outputDirectory+outputFileName)                \n",
    "                    except:\n",
    "                        print('cannot remove '+outputDirectory+outputFileName)         \n",
    "            except:\n",
    "                # write the write\n",
    "                errorFileHandle.write(fundName+\"|\"+fundTicker+\"|\"+productId+\"|\"+outputDirectory+\"|\"+outputFileName+\"|\"+asOfDate.strftime('%Y%m%d')+\"\\n\")\n",
    "\n",
    "                pass\n",
    "    return errorFileHandle"
   ]
  },
  {
   "cell_type": "markdown",
   "metadata": {},
   "source": [
    "We download the raw holdings files with the following code:"
   ]
  },
  {
   "cell_type": "code",
   "execution_count": 7,
   "metadata": {
    "collapsed": false
   },
   "outputs": [
    {
     "name": "stdout",
     "output_type": "stream",
     "text": [
      "Time Elasped: 132.957096259\n"
     ]
    }
   ],
   "source": [
    "if (dataAcquisitionFlag==True):\n",
    "    # US fund list\n",
    "    iSharesUS={}\n",
    "    iSharesUS['iShares Core S&P 500 ETF']='IVV|239726|ishares-core-sp-500-etf'\n",
    "    # set the error file directory\n",
    "    errorDirectory=baseDirectory+'data/iShares/'\n",
    "    # set the output holdings file directory\n",
    "    outputDirectory=baseDirectory+'data/iShares/raw/'\n",
    "    # create the directory if it does not exist\n",
    "    ensure_directory(errorDirectory)\n",
    "    # create the directory if it does not exist\n",
    "    ensure_directory(outputDirectory)\n",
    "    # create error output file\n",
    "    errorFileName=\"error_\"+endDate.strftime('%Y%m%d')+\"_\"+startDate.strftime('%Y%m%d') \n",
    "    # create the error file handle\n",
    "    errorFileHandle = open(errorDirectory+errorFileName,'w')\n",
    "    # start timer\n",
    "    ts_raw = timer()\n",
    "    # fetch the iShares US holdings for the date range\n",
    "    errorFileHandle=fetchISharesUsHoldingsForDateRange(startDate, endDate,iSharesUS,errorFileHandle)\n",
    "    # end time\n",
    "    te_raw = timer()\n",
    "    timeElasped_raw=te_raw-ts_raw\n",
    "    print('Time Elasped: '+str(timeElasped_raw))\n",
    "    # close the output file\n",
    "    errorFileHandle.close()"
   ]
  },
  {
   "cell_type": "markdown",
   "metadata": {},
   "source": [
    "### iShares ETF Holdings Data Preprocessing\n",
    "The next set of functions is used to read the raw holding files and preprocess them for loading to the MySQL database:"
   ]
  },
  {
   "cell_type": "code",
   "execution_count": 8,
   "metadata": {
    "collapsed": true
   },
   "outputs": [],
   "source": [
    "def findFiles(files,searchString):\n",
    "    return [i for i in files if searchString in i]\n",
    "\n",
    "def cleanInstrumentTickers(value):\n",
    "    value=value.replace('*','')\n",
    "    \n",
    "    return value\n",
    "\n",
    "def cleanValue(value):\n",
    "    value=value.replace(',','')\n",
    "    value=value.replace('$','')\n",
    "    \n",
    "    return value\n",
    "\n",
    "def firstLetterLower(s):\n",
    "   if len(s) == 0:\n",
    "      return s\n",
    "   else:\n",
    "      return s[0].lower() + s[1:]\n",
    "\n",
    "def cleanColumnNames(columnNames):\n",
    "    \n",
    "    columnNamesList=list()\n",
    "    for columnName in columnNames:\n",
    "        columnName=columnName.title()\n",
    "        columnName=firstLetterLower(columnName)\n",
    "        columnName=columnName.replace(' ','')\n",
    "        columnName=columnName.replace('(%)','Percent')\n",
    "        columnNamesList.append(columnName)\n",
    "    \n",
    "    return columnNamesList\n",
    "\n",
    "def readFundAttributesUS_EQ(outputDirectory,outputFileName):\n",
    "    # create the full path file name\n",
    "    fileName=outputDirectory+outputFileName\n",
    "    #\n",
    "    fundAttributes=pandas.read_csv(fileName,skiprows=1,nrows=7,na_values=['-'],header=None,\n",
    "        index_col=[0],names=['value'])\n",
    "   \n",
    "    return fundAttributes\n",
    "\n",
    "def readFundComponentsUS_EQ(outputDirectory,outputFileName,fundTicker):\n",
    "    # set the converters\n",
    "    convertersDictionary={}\n",
    "    convertersDictionary['Ticker']=cleanInstrumentTickers\n",
    "    convertersDictionary['Market Value']=cleanValue\n",
    "    convertersDictionary['Shares']=cleanValue\n",
    "    convertersDictionary['Notional Value']=cleanValue\n",
    "    convertersDictionary['Price']=cleanValue \n",
    "    # create the full path file name\n",
    "    fileName=outputDirectory+outputFileName\n",
    "    # read the data\n",
    "    data=pandas.read_csv(fileName,skiprows=10,skipfooter=1,engine='python',na_values=['-'],\n",
    "        converters=convertersDictionary)\n",
    "     # find the missing ticker\n",
    "    index1=(data['Ticker']).isnull()\n",
    "    # create an index for missing name\n",
    "    index2=(data['Name']).isnull()\n",
    "    # create an index for the records without tickers, names, coupons, or maturity\n",
    "    nullIndex = index1 | index2\n",
    "    # extract the records without tickers or names\n",
    "    errorData=data.loc[nullIndex,]        \n",
    "    # remove the holdings without tickers or names \n",
    "    data=data.loc[~nullIndex,]                                  \n",
    "    # extract the column names\n",
    "    columnNames=list(data)\n",
    "    # pre-process column names\n",
    "    columnNames=cleanColumnNames(columnNames)\n",
    "    # re-name columns\n",
    "    data.columns=columnNames\n",
    "    # read the fund name\n",
    "    fileHandle = open(fileName, 'r')\n",
    "    fundName = fileHandle.readline()\n",
    "    # read the fund attributes\n",
    "    fundAttributes=readFundAttributesUS_EQ(outputDirectory,outputFileName)\n",
    "    # extract the inception date\n",
    "    inceptionDate=fundAttributes['value'][0]\n",
    "    # extract the fund holdings as of date\n",
    "    fundHoldingsAsOfDate=fundAttributes['value'][1]\n",
    "    # extract total net assets\n",
    "    totalNetAssets=fundAttributes['value'][2]\n",
    "    # extract the shares outstanding\n",
    "    sharesOutstanding=fundAttributes['value'][3]\n",
    "    # fund attributes\n",
    "    data['fundName']=fundName.replace('\\n','')\n",
    "    data['fundTicker']=fundTicker\n",
    "    data['inceptionDate']=dateutil.parser.parse(inceptionDate)\n",
    "    data['fundHoldingsAsOfDate']=dateutil.parser.parse(fundHoldingsAsOfDate)\n",
    "    errorData['fundName']=fundName.replace('\\n','')\n",
    "    errorData['fundTicker']=fundTicker\n",
    "    errorData['inceptionDate']=dateutil.parser.parse(inceptionDate)\n",
    "    errorData['fundHoldingsAsOfDate']=dateutil.parser.parse(fundHoldingsAsOfDate)\n",
    "    \n",
    "    try:\n",
    "        data['totalNetAssets']=cleanValue(totalNetAssets)\n",
    "        errorData['totalNetAssets']=cleanValue(totalNetAssets)\n",
    "    except:\n",
    "        data['totalNetAssets']=totalNetAssets\n",
    "        errorData['totalNetAssets']=totalNetAssets\n",
    "    try:\n",
    "        data['sharesOutstanding']=cleanValue(sharesOutstanding)\n",
    "        errorData['sharesOutstanding']=cleanValue(sharesOutstanding)\n",
    "    except:\n",
    "        data['sharesOutstanding']=sharesOutstanding\n",
    "        errorData['sharesOutstanding']=sharesOutstanding\n",
    "                                                    \n",
    "    return data,errorData"
   ]
  },
  {
   "cell_type": "markdown",
   "metadata": {
    "collapsed": true
   },
   "source": [
    "### iShares ETF Holdings Data Loading"
   ]
  },
  {
   "cell_type": "markdown",
   "metadata": {},
   "source": [
    "The following functions are used to create and load a MySQL table to store the iShares holdings:"
   ]
  },
  {
   "cell_type": "code",
   "execution_count": 9,
   "metadata": {
    "collapsed": true
   },
   "outputs": [],
   "source": [
    "def createISharesHoldingsTable_US_EQ(dbHandle,table):\n",
    "\n",
    "    sql='CREATE TABLE '+table+' (dbUpdateTimestamp TIMESTAMP,instrument_ticker VARCHAR(40) NOT NULL,instrument_name VARCHAR(80),isin VARCHAR(24),sedol VARCHAR(15),weight_percent DECIMAL(20,10),sector VARCHAR(50),asset_class VARCHAR(60),market_value DECIMAL(30,2),shares BIGINT,price DECIMAL(20,10),exchange VARCHAR(100),notional_value DECIMAL(30,2),fund_name VARCHAR(100) NOT NULL,fund_ticker VARCHAR(40) NOT NULL,inception_date DATE,fund_holdings_as_of_date DATE NOT NULL,total_net_assets DECIMAL(30,10),shares_outstanding BIGINT, PRIMARY KEY ( instrument_ticker,fund_holdings_as_of_date,fund_name ) ) ENGINE=INNODB;'\n",
    "    #print(sql+\"\\n\")\n",
    "\n",
    "    try:\n",
    "        cursor = dbHandle.cursor()\n",
    "        cursor.execute(sql)\n",
    "                                \n",
    "    except MySQLdb.Error,e:\n",
    "        print (\"Error code:\",e.args[0])\n",
    "        print (\"Error message:\",e.args[1])\n",
    "\n",
    "    return\n",
    "\n",
    "def loadISharesHoldingsTable_US_EQ(dbHandle,table,directoryName,fileName):\n",
    "    \n",
    "    sql=\"LOAD DATA LOCAL INFILE '\" + directoryName + fileName + \"' IGNORE INTO TABLE \"+table+\" FIELDS TERMINATED BY '|' LINES TERMINATED BY '\\n' IGNORE 1 LINES (instrument_ticker,instrument_name,isin,sedol,weight_percent,sector,asset_class,market_value,shares,price,exchange,notional_value,fund_name,fund_ticker,inception_date,fund_holdings_as_of_date,total_net_assets,shares_outstanding);\"\n",
    "    #print(sql+\"\\n\")\n",
    "\n",
    "    try:\n",
    "        cursor = dbHandle.cursor()\n",
    "        cursor.execute(sql)\n",
    "        dbHandle.commit()\n",
    "\n",
    "    except MySQLdb.Error,e:\n",
    "        print (\"Error code:\",e.args[0])\n",
    "        print (\"Error message:\",e.args[1])\n",
    "        print(\"Error: loadISharesHoldingsTable_US_EQ\")\n",
    "        print(table)\n",
    "        print(outputDirectory+inputFileName)\n",
    "        dbHandle.rollback()\n",
    "\n",
    "    return"
   ]
  },
  {
   "cell_type": "markdown",
   "metadata": {},
   "source": [
    "The function below is used to preprocess the raw historical holdings files:"
   ]
  },
  {
   "cell_type": "code",
   "execution_count": 10,
   "metadata": {
    "collapsed": false
   },
   "outputs": [],
   "source": [
    "# preprocess raw historical iShares holdings files\n",
    "def preprocessHistoricalISharesHoldings(dbHandle,table,errorFileHandle,inputDirectory,outputDirectory,archiveDirectory):\n",
    "    \n",
    "    # set the find column names\n",
    "    columnNames=['ticker','name','isin','sedol','weightPercent','sector','assetClass',\n",
    "        'marketValue','shares','price','exchange','notionalValue','fundName','fundTicker',\n",
    "        'inceptionDate','fundHoldingsAsOfDate','totalNetAssets','sharesOutstanding']    \n",
    "\n",
    "    # get the list of raw files\n",
    "    rawFiles=os.listdir(inputDirectory)\n",
    "    # iterate over each of the EQ ETFs\n",
    "    for fundName in holdingsUS_EQ:\n",
    "        print(fundName)\n",
    "        # extract the fund ticker\n",
    "        fundTicker=holdingsUS_EQ[fundName]\n",
    "        # find the raw files associated with the fund ticker\n",
    "        rawFiles_US_EQ=findFiles(rawFiles,fundTicker)      \n",
    "        # iterate over the files associated with the fund ticker\n",
    "        for inputFileName in rawFiles_US_EQ:\n",
    "            print(inputFileName)\n",
    "            # read the US EQ data\n",
    "            data,errorData=readFundComponentsUS_EQ(inputDirectory,inputFileName,fundTicker)\n",
    "            # export the preprocessed data\n",
    "            data.to_csv(outputDirectory+inputFileName,sep='|',index=False,na_rep='\\N',\n",
    "                line_terminator='\\n',columns=columnNames)\n",
    "            # write the error holdings\n",
    "            errorData.to_csv(errorFileHandle,mode='a',sep='|',index=False,na_rep='\\N',\n",
    "                encoding='utf-8',header=False,float_format='%.10f',line_terminator='\\n',\n",
    "                columns=columnNames)\n",
    "            # load the holdings table\n",
    "            loadISharesHoldingsTable_US_EQ(dbHandle,table,outputDirectory,inputFileName)\n",
    "            # move the raw file to archive\n",
    "            shutil.move(inputDirectory+inputFileName,archiveDirectory+inputFileName)\n",
    "            \n",
    "    return errorFileHandle"
   ]
  },
  {
   "cell_type": "markdown",
   "metadata": {},
   "source": [
    "We connect to the database:"
   ]
  },
  {
   "cell_type": "code",
   "execution_count": 11,
   "metadata": {
    "collapsed": false
   },
   "outputs": [
    {
     "name": "stdout",
     "output_type": "stream",
     "text": [
      "Connected to global_monitoring on localhost:3306\n"
     ]
    }
   ],
   "source": [
    "# connect to the 'global_monitoring' MySQL database \n",
    "dbHandle=dbConnect(dbHost,dbPort,dbUser,dbPassword,databaseName)"
   ]
  },
  {
   "cell_type": "markdown",
   "metadata": {},
   "source": [
    "Next, we iterate over each of the raw holdings files downloaded from the iShares website, preprocess, then load the files to the database:"
   ]
  },
  {
   "cell_type": "code",
   "execution_count": 12,
   "metadata": {
    "collapsed": false
   },
   "outputs": [
    {
     "name": "stdout",
     "output_type": "stream",
     "text": [
      "iShares Core S&P 500 ETF\n",
      "IVV_holdings_20061031\n",
      "IVV_holdings_20061130\n",
      "IVV_holdings_20070131\n",
      "IVV_holdings_20070228\n",
      "IVV_holdings_20070430\n",
      "IVV_holdings_20070531\n",
      "IVV_holdings_20070731\n",
      "IVV_holdings_20070831\n",
      "IVV_holdings_20071031\n",
      "IVV_holdings_20071130\n",
      "IVV_holdings_20071231\n",
      "IVV_holdings_20080131\n",
      "IVV_holdings_20080229\n",
      "IVV_holdings_20080331\n",
      "IVV_holdings_20080430\n",
      "IVV_holdings_20080630\n",
      "IVV_holdings_20080731\n",
      "IVV_holdings_20080930\n",
      "IVV_holdings_20081031\n",
      "IVV_holdings_20081231\n",
      "IVV_holdings_20090331\n",
      "IVV_holdings_20090430\n",
      "IVV_holdings_20090630\n",
      "IVV_holdings_20090731\n",
      "IVV_holdings_20090831\n",
      "IVV_holdings_20090930\n",
      "IVV_holdings_20091130\n",
      "IVV_holdings_20091231\n",
      "IVV_holdings_20100331\n",
      "IVV_holdings_20100430\n",
      "IVV_holdings_20100630\n",
      "IVV_holdings_20100831\n",
      "IVV_holdings_20100930\n",
      "IVV_holdings_20101130\n",
      "IVV_holdings_20101231\n",
      "IVV_holdings_20110131\n",
      "IVV_holdings_20110228\n",
      "IVV_holdings_20110331\n",
      "IVV_holdings_20110531\n",
      "IVV_holdings_20110630\n",
      "IVV_holdings_20110831\n",
      "IVV_holdings_20110930\n",
      "IVV_holdings_20111031\n",
      "IVV_holdings_20111130\n",
      "IVV_holdings_20120131\n",
      "IVV_holdings_20120229\n",
      "IVV_holdings_20120430\n",
      "IVV_holdings_20120531\n",
      "IVV_holdings_20120731\n",
      "IVV_holdings_20120831\n",
      "IVV_holdings_20121031\n",
      "IVV_holdings_20121130\n",
      "IVV_holdings_20121231\n",
      "IVV_holdings_20130131\n",
      "IVV_holdings_20130228\n",
      "IVV_holdings_20130430\n",
      "IVV_holdings_20130531\n",
      "IVV_holdings_20130731\n",
      "IVV_holdings_20130930\n",
      "IVV_holdings_20131031\n",
      "IVV_holdings_20131231\n",
      "IVV_holdings_20140131\n",
      "IVV_holdings_20140228\n",
      "IVV_holdings_20140331\n",
      "IVV_holdings_20140430\n",
      "IVV_holdings_20140630\n",
      "IVV_holdings_20140731\n",
      "IVV_holdings_20140930\n",
      "IVV_holdings_20141031\n",
      "IVV_holdings_20141231\n",
      "IVV_holdings_20150331\n",
      "IVV_holdings_20150430\n",
      "IVV_holdings_20150630\n",
      "IVV_holdings_20150731\n",
      "IVV_holdings_20150831\n",
      "IVV_holdings_20150930\n",
      "IVV_holdings_20151130\n",
      "Time Elasped: 21.2490421095\n"
     ]
    }
   ],
   "source": [
    "if (dataAcquisitionFlag==True):\n",
    "    # create dictionary of ETFs to collect\n",
    "    holdingsUS_EQ={}\n",
    "    holdingsUS_EQ['iShares Core S&P 500 ETF']='IVV'\n",
    "    # set the input and output directories\n",
    "    errorDirectoryName=baseDirectory+'data/iShares/'\n",
    "    inputDirectory=baseDirectory+'data/iShares/raw/'\n",
    "    outputDirectory=baseDirectory+'data/iShares/preprocess/'\n",
    "    archiveDirectory=baseDirectory+'data/iShares/archive/'\n",
    "    # create the directory if it does not exist\n",
    "    ensure_directory(outputDirectory)\n",
    "    # create the directory if it does not exist\n",
    "    ensure_directory(archiveDirectory)\n",
    "    \n",
    "    # determine the current datetime\n",
    "    runDateTime=datetime.datetime.now()\n",
    "\n",
    "    # create the error tracking file\n",
    "    errorFileName='error_'+runDateTime.strftime('%Y%m%d')\n",
    "\n",
    "    # open error tracking output file handle\n",
    "    errorFileHandle = open(errorDirectoryName+errorFileName,'w')\n",
    "\n",
    "    # set output header column names\n",
    "    columnNames=['ticker','name','isin','sedol','weightPercent','sector','assetClass',\n",
    "        'marketValue','shares','price','exchange','notionalValue','fundName','fundTicker',\n",
    "        'inceptionDate','fundHoldingsAsOfDate','totalNetAssets','sharesOutstanding']\n",
    "\n",
    "    # write the header\n",
    "    errorFileHandle.write('|'.join(columnNames)+'\\n')\n",
    "    table='ishares_us_eq_holdings'\n",
    "\n",
    "    # create the holdings table\n",
    "    if not doesTableExist(dbHandle,table):\n",
    "        # create the holdings table\n",
    "        createISharesHoldingsTable_US_EQ(dbHandle,table)\n",
    "\n",
    "    # start timer\n",
    "    ts_preprocess = timer()\n",
    "    # preprocess raw historical iShares holdings files\n",
    "    errorFileHandle=preprocessHistoricalISharesHoldings(dbHandle,table,errorFileHandle,\n",
    "        inputDirectory,outputDirectory,archiveDirectory)\n",
    "\n",
    "    # end time\n",
    "    te_preprocess = timer()\n",
    "    timeElasped_preprocess=te_preprocess-ts_preprocess\n",
    "    print('Time Elasped: '+str(timeElasped_preprocess))    \n",
    "\n",
    "    # close error tracking output file handle\n",
    "    errorFileHandle.close()\n",
    "    \n",
    "    query=\"SELECT instrument_ticker,instrument_name FROM ishares_us_eq_holdings WHERE fund_ticker='IVV' AND asset_class='Equity' GROUP BY instrument_ticker\"\n",
    "\n",
    "    instruments=sql.read_sql(query,con=dbHandle,coerce_float=True)\n",
    "    \n",
    "    # set the HDF5 output file directory\n",
    "    output_directory=baseDirectory+'data/iShares/HDF5/'\n",
    "    # create the directory if it does not exist\n",
    "    ensure_directory(output_directory)    \n",
    "    output_file='sp500_iShares_IVV_holdings.h5'\n",
    "    # create the HDF5 data store\n",
    "    data_store = pandas.HDFStore(output_directory+output_file)\n",
    "    # store the 'instruments' data frame in the HDF5 data store\n",
    "    data_store['instruments'] = instruments\n",
    "    # close the HDF5 data store\n",
    "    data_store.close()\n",
    "    \n",
    "elif (dataAcquisitionFlag==False):\n",
    "    try:\n",
    "        # read the instruments data from the HDF5 data store\n",
    "        instruments = pandas.read_hdf(output_directory+output_file,'instruments')\n",
    "    except:\n",
    "        print('The data acquisition must be run at least once.')\n",
    "        print('Please re-run with the dataAcquisitionFlag set to True')  "
   ]
  },
  {
   "cell_type": "markdown",
   "metadata": {},
   "source": [
    "### Price Data for ETF Constituents"
   ]
  },
  {
   "cell_type": "markdown",
   "metadata": {},
   "source": [
    "In this section, we use the ETF holdings data to build the instrument universe we will use to test our momentum strategy. We iterate over each constituent stock held by the iShares S&P500 ETF over the period between 2006-10-31 and 2015-11-30 and attempt to get corresponding price, dividend, and stock split data."
   ]
  },
  {
   "cell_type": "markdown",
   "metadata": {},
   "source": [
    "The function immediately below is used to pull price data from yahoo finance."
   ]
  },
  {
   "cell_type": "code",
   "execution_count": 13,
   "metadata": {
    "collapsed": true
   },
   "outputs": [],
   "source": [
    "# fetch yahoo data for ticker between start and end dates\n",
    "def fetchYahooData(yahooTicker,instrumentName,startDate, endDate):\n",
    "    # fetch historical data\n",
    "    df = web.DataReader(yahooTicker, 'yahoo', startDate, endDate)\n",
    "    corporateActions=web.DataReader(yahooTicker, 'yahoo-actions', startDate, endDate)\n",
    "\n",
    "    # iterate backwards over the prices and compute the adj factor\n",
    "\n",
    "    df1=df.copy(deep=True)\n",
    "\n",
    "    #dateTime=df1.index\n",
    "    openPrice=numpy.array(df1['Open'].values, dtype='d')\n",
    "    highPrice=numpy.array(df1['High'].values, dtype='d')\n",
    "    lowPrice=numpy.array(df1['Low'].values, dtype='d')\n",
    "    closePrice=numpy.array(df1['Close'].values, dtype='d')\n",
    "    adjustedClosePrice=numpy.array(df1['Adj Close'].values, dtype='d')\n",
    "        \n",
    "    T=len(df)\n",
    "    adjustCount=0\n",
    "    for t in xrange(T-1,-1,-1):\n",
    "       \n",
    "        if closePrice[t] != adjustedClosePrice[t]:\n",
    "            factor = adjustedClosePrice[t]/closePrice[t]\n",
    "            adjustCount=adjustCount+1\n",
    "            \n",
    "            for tt in xrange(t,-1,-1):\n",
    "                openPrice[tt]=openPrice[tt]*factor\n",
    "                highPrice[tt]=highPrice[tt]*factor\n",
    "                lowPrice[tt]=lowPrice[tt]*factor\n",
    "                closePrice[tt]=closePrice[tt]*factor                \n",
    "\n",
    "    df['adjOpen']=numpy.array(openPrice, dtype='d')\n",
    "    df['adjHigh']=numpy.array(highPrice, dtype='d')\n",
    "    df['adjLow']=numpy.array(lowPrice, dtype='d')\n",
    "    df['adjClose']=numpy.array(closePrice, dtype='d')\n",
    "                            \n",
    "    # add true range and 20d ATR\n",
    "    previousClosePrice=df['adjClose'].shift(1)\n",
    "    a=df['adjHigh']-df['adjLow']\n",
    "    b=abs(df['adjHigh']-previousClosePrice)\n",
    "    c=abs(previousClosePrice-df['adjLow'])\n",
    "    test=pandas.concat([a,b,c],axis=1)\n",
    "    # compute true range\n",
    "    trueRange=test.max(axis=1,skipna=False)\n",
    "    trueRange.reindex(df.index,method='ffill')\n",
    "    df['trueRange']=trueRange\n",
    "    # compute the 20d atr\n",
    "    atrLookback=20\n",
    "    atr=pandas.ewma(trueRange,span=atrLookback,min_periods=atrLookback)\n",
    "    df['atr_20d']=numpy.array(numpy.around(atr, decimals=2, out=None), dtype='d')\n",
    "    # concat the data frames\n",
    "    data=pandas.concat([df,corporateActions],axis=1,join='outer')\n",
    "        \n",
    "    ## add instrument info              \n",
    "    data['yahooTicker']=str(yahooTicker)\n",
    "    data['instrumentName']=str(instrumentName)\n",
    "\n",
    "    return data"
   ]
  },
  {
   "cell_type": "markdown",
   "metadata": {},
   "source": [
    "Using the above function, we can pull the price, dividend, and stock split data for the S&P500 iShares ETF as follows:"
   ]
  },
  {
   "cell_type": "code",
   "execution_count": 14,
   "metadata": {
    "collapsed": false
   },
   "outputs": [
    {
     "name": "stdout",
     "output_type": "stream",
     "text": [
      "                  Open        High         Low       Close   Volume  \\\n",
      "2015-11-23  210.479996  211.169998  209.710007  210.220001  2329200   \n",
      "2015-11-24  208.960007  211.009995  208.610001  210.520004  3222000   \n",
      "2015-11-25  210.729996  210.929993  210.250000  210.529999  1887000   \n",
      "2015-11-27  210.600006  210.990005  210.059998  210.710007  1062400   \n",
      "2015-11-30  211.000000  211.080002  209.750000  209.869995  5283300   \n",
      "\n",
      "             Adj Close     adjOpen     adjHigh      adjLow    adjClose  \\\n",
      "2015-11-23  210.220001  210.479996  211.169998  209.710007  210.220001   \n",
      "2015-11-24  210.520004  208.960007  211.009995  208.610001  210.520004   \n",
      "2015-11-25  210.529999  210.729996  210.929993  210.250000  210.529999   \n",
      "2015-11-27  210.710007  210.600006  210.990005  210.059998  210.710007   \n",
      "2015-11-30  209.869995  211.000000  211.080002  209.750000  209.869995   \n",
      "\n",
      "            trueRange  atr_20d action  value yahooTicker  \\\n",
      "2015-11-23   1.459991     2.12    NaN    NaN         IVV   \n",
      "2015-11-24   2.399994     2.15    NaN    NaN         IVV   \n",
      "2015-11-25   0.679993     2.01    NaN    NaN         IVV   \n",
      "2015-11-27   0.930007     1.90    NaN    NaN         IVV   \n",
      "2015-11-30   1.330002     1.85    NaN    NaN         IVV   \n",
      "\n",
      "                      instrumentName  \n",
      "2015-11-23  iShares Core S&P 500 ETF  \n",
      "2015-11-24  iShares Core S&P 500 ETF  \n",
      "2015-11-25  iShares Core S&P 500 ETF  \n",
      "2015-11-27  iShares Core S&P 500 ETF  \n",
      "2015-11-30  iShares Core S&P 500 ETF  \n"
     ]
    }
   ],
   "source": [
    "instrumentTicker='IVV'\n",
    "instrumentName='iShares Core S&P 500 ETF'\n",
    "# fetch the data from yahoo\n",
    "data=fetchYahooData(instrumentTicker,instrumentName,startDate,endDate)\n",
    "print(data.tail())"
   ]
  },
  {
   "cell_type": "markdown",
   "metadata": {},
   "source": [
    "We can now fetch the list of constituent tickers associated with the S&P500 iShares ETF from the MySQL database, then attempt to fetch the price and corporate action data for each constituent:"
   ]
  },
  {
   "cell_type": "code",
   "execution_count": 15,
   "metadata": {
    "collapsed": false
   },
   "outputs": [
    {
     "name": "stdout",
     "output_type": "stream",
     "text": [
      "Time Elasped: 1878.37512669\n"
     ]
    }
   ],
   "source": [
    "if (dataAcquisitionFlag==True):\n",
    "    dataDictionary=dict()\n",
    "    error=dict()\n",
    "\n",
    "    # start timer\n",
    "    ts_fetchPrices = timer()\n",
    "\n",
    "    # iterate over each row in the dataframe\n",
    "    for instrument in instruments.iterrows():\n",
    "        #print(instrument)\n",
    "        instrumentTicker=instrument[1]['instrument_ticker']\n",
    "        instrumentName=instrument[1]['instrument_name']\n",
    "        try:\n",
    "            data=fetchYahooData(instrumentTicker,instrumentName,startDate,endDate)\n",
    "            dataDictionary[instrumentTicker]=data\n",
    "        except:\n",
    "            error[instrumentTicker]=instrumentName\n",
    "\n",
    "    # convert the error dictionary to a dataframe\n",
    "    errorData=pandas.DataFrame.from_dict(error,orient='index')            \n",
    "    # end timer\n",
    "    te_fetchPrices = timer()\n",
    "    timeElasped_fetchPrices=te_fetchPrices-ts_fetchPrices\n",
    "    print('Time Elasped: '+str(timeElasped_fetchPrices))\n",
    "   \n",
    "    # create the data panel\n",
    "    groupData=pandas.Panel.from_dict(dataDictionary,orient='minor')\n",
    "    # extract the prices\n",
    "    prices=groupData['adjClose']\n",
    "    # extract the true ranges\n",
    "    trueRanges=groupData['trueRange']    \n",
    "\n",
    "    # set the HDF5 output file directory\n",
    "    output_directory=baseDirectory+'data/yahoo/HDF5/'\n",
    "    # create the directory if it does not exist\n",
    "    ensure_directory(output_directory)      \n",
    "    output_file='sp500_iShares_IVV.h5'\n",
    "    # create the HDF5 data store\n",
    "    data_store = pandas.HDFStore(output_directory+output_file)\n",
    "    # store the 'prices' data frame in the HDF5 data store\n",
    "    data_store['price'] = prices\n",
    "    # store the 'true ranges' data frame in the HDF5 data store\n",
    "    data_store['trueRange'] = trueRanges\n",
    "    # store the 'error tickers' data frame in the HDF5 data store\n",
    "    data_store['error'] = errorData\n",
    "    # close the HDF5 data store\n",
    "    data_store.close() \n",
    "    \n",
    "elif (dataAcquisitionFlag==False):\n",
    "    try:\n",
    "        # read the price data from the HDF5 data store\n",
    "        prices = pandas.read_hdf(output_directory+output_file,'price')\n",
    "        # read the true range data from the HDF5 data store\n",
    "        trueRanges = pandas.read_hdf(output_directory+output_file,'trueRange')\n",
    "        #\n",
    "        errorData = pandas.read_hdf(output_directory+output_file,'error')\n",
    "    except:\n",
    "        print('The data acquisition must be run at least once.')\n",
    "        print('Please re-run with the dataAcquisitionFlag set to True')"
   ]
  },
  {
   "cell_type": "markdown",
   "metadata": {},
   "source": [
    "Given the amount of time that it takes to fetch this data, we store the data in a HDF5 file for later use."
   ]
  },
  {
   "cell_type": "markdown",
   "metadata": {},
   "source": [
    "Close the database connection:"
   ]
  },
  {
   "cell_type": "code",
   "execution_count": 16,
   "metadata": {
    "collapsed": false
   },
   "outputs": [
    {
     "name": "stdout",
     "output_type": "stream",
     "text": [
      "disconnected...\n"
     ]
    }
   ],
   "source": [
    "# disconnect from MySQL\n",
    "dbDisconnect(dbHandle)"
   ]
  },
  {
   "cell_type": "code",
   "execution_count": 17,
   "metadata": {
    "collapsed": false
   },
   "outputs": [
    {
     "data": {
      "text/plain": [
       "772"
      ]
     },
     "execution_count": 17,
     "metadata": {},
     "output_type": "execute_result"
    }
   ],
   "source": [
    "len(instruments)"
   ]
  },
  {
   "cell_type": "code",
   "execution_count": 18,
   "metadata": {
    "collapsed": false
   },
   "outputs": [
    {
     "data": {
      "text/html": [
       "<div>\n",
       "<table border=\"1\" class=\"dataframe\">\n",
       "  <thead>\n",
       "    <tr style=\"text-align: right;\">\n",
       "      <th></th>\n",
       "      <th>instrument_ticker</th>\n",
       "      <th>instrument_name</th>\n",
       "    </tr>\n",
       "  </thead>\n",
       "  <tbody>\n",
       "    <tr>\n",
       "      <th>767</th>\n",
       "      <td>YUM</td>\n",
       "      <td>YUM BRANDS INC</td>\n",
       "    </tr>\n",
       "    <tr>\n",
       "      <th>768</th>\n",
       "      <td>ZBH</td>\n",
       "      <td>ZIMMER BIOMET HOLDINGS INC</td>\n",
       "    </tr>\n",
       "    <tr>\n",
       "      <th>769</th>\n",
       "      <td>ZION</td>\n",
       "      <td>ZIONS BANCORPORATION</td>\n",
       "    </tr>\n",
       "    <tr>\n",
       "      <th>770</th>\n",
       "      <td>ZMH</td>\n",
       "      <td>ZIMMER HOLDINGS INC</td>\n",
       "    </tr>\n",
       "    <tr>\n",
       "      <th>771</th>\n",
       "      <td>ZTS</td>\n",
       "      <td>ZOETIS INC CLASS A</td>\n",
       "    </tr>\n",
       "  </tbody>\n",
       "</table>\n",
       "</div>"
      ],
      "text/plain": [
       "    instrument_ticker             instrument_name\n",
       "767               YUM              YUM BRANDS INC\n",
       "768               ZBH  ZIMMER BIOMET HOLDINGS INC\n",
       "769              ZION        ZIONS BANCORPORATION\n",
       "770               ZMH         ZIMMER HOLDINGS INC\n",
       "771               ZTS          ZOETIS INC CLASS A"
      ]
     },
     "execution_count": 18,
     "metadata": {},
     "output_type": "execute_result"
    }
   ],
   "source": [
    "instruments.tail()"
   ]
  },
  {
   "cell_type": "markdown",
   "metadata": {},
   "source": [
    "## Data Cleaning"
   ]
  },
  {
   "cell_type": "markdown",
   "metadata": {},
   "source": [
    "Although by definition there are roughly 500 stocks held by the iShares S&P500 ETF at any given instant in time, there were 772 distinct tickers associated with holdings of the iShares S&P500 ETF over the period between 2006-10-31 and 2015-11-30. The difference between 772 and 500 reflects the changing composition of the index over time. In particular, stocks are added or dropped according to the rules of the index or as a result of corporate actions (such as name changes or mergers and acquisitions).\n",
    "\n",
    "Corporate actions make it difficult to determine how many truly distinct stocks were in the S&P500 universe over the period without more detailed corporate actions information. Unfortunately, such information is typically very expensive to obtain. Using publically available data thus significantly limits our ability to construct a research-ready database for strategy testing. For this reason, the sections below pertaining to the back-testing of our strategy will likely produce performance that is biased and should be considered to provide only the basic behavioral characteristics of the strategy. Full walk-forward testing and risk and performance attribution is unlikely to provide much value given our data limitations and thus has been abandoned in favor of sensitivity analysis and an exploration of the dependence between stocks in our instrument universe."
   ]
  },
  {
   "cell_type": "markdown",
   "metadata": {},
   "source": [
    "We load the data from the HDF5 files:"
   ]
  },
  {
   "cell_type": "code",
   "execution_count": 19,
   "metadata": {
    "collapsed": true
   },
   "outputs": [],
   "source": [
    "# load the data\n",
    "fileDirectory=baseDirectory+'data/yahoo/HDF5/'\n",
    "fileName='sp500_iShares_IVV.h5'\n",
    "prices=pandas.read_hdf(fileDirectory+fileName,'price')\n",
    "trueRanges=pandas.read_hdf(fileDirectory+fileName,'trueRange')\n",
    "errorData=pandas.read_hdf(fileDirectory+fileName,'error')"
   ]
  },
  {
   "cell_type": "code",
   "execution_count": 20,
   "metadata": {
    "collapsed": false
   },
   "outputs": [
    {
     "name": "stdout",
     "output_type": "stream",
     "text": [
      "<class 'pandas.core.panel.Panel'>\n",
      "Dimensions: 16 (items) x 2370 (major_axis) x 650 (minor_axis)\n",
      "Items axis: Open to value\n",
      "Major_axis axis: 2006-10-31 00:00:00 to 2015-11-30 00:00:00\n",
      "Minor_axis axis: 0R01 to ZTS\n"
     ]
    }
   ],
   "source": [
    "print(groupData)"
   ]
  },
  {
   "cell_type": "code",
   "execution_count": 21,
   "metadata": {
    "collapsed": false
   },
   "outputs": [
    {
     "name": "stdout",
     "output_type": "stream",
     "text": [
      "            0R01  6COP  8686          A     A60    AA        AAL         AAP  \\\n",
      "2015-11-24   NaN   NaN  8030  40.669998  283.98  9.09  41.230000  163.124570   \n",
      "2015-11-25   NaN   NaN  8020  41.340000  290.52  9.41  41.310001  164.234125   \n",
      "2015-11-26   NaN   NaN  8020        NaN  300.05   NaN        NaN         NaN   \n",
      "2015-11-27   NaN   NaN  7960  41.970001  300.93  9.32  41.689999  164.773902   \n",
      "2015-11-30   NaN   NaN  7980  41.820000  300.60  9.36  41.259998  162.664747   \n",
      "\n",
      "                  AAPL    AAZ    ...           XLNX        XOM       XRAY  \\\n",
      "2015-11-24  118.879997  58.53    ...      49.230000  81.879997  61.045699   \n",
      "2015-11-25  118.029999  58.30    ...      49.009998  81.250000  60.875908   \n",
      "2015-11-26         NaN  57.65    ...            NaN        NaN        NaN   \n",
      "2015-11-27  117.809998  57.33    ...      49.230000  81.230003  61.035713   \n",
      "2015-11-30  118.300003  57.57    ...      49.689999  81.660004  60.586259   \n",
      "\n",
      "              XRX        XYL       YHOO        YUM         ZBH       ZION  \\\n",
      "2015-11-24  10.61  37.480000  32.959999  72.379997  101.919998  29.950001   \n",
      "2015-11-25  10.59  37.660000  33.160000  72.589996  101.290001  29.940001   \n",
      "2015-11-26    NaN        NaN        NaN        NaN         NaN        NaN   \n",
      "2015-11-27  10.63  37.580002  32.939999  72.959999  101.000000  30.090000   \n",
      "2015-11-30  10.55  37.320000  33.810001  72.510002  101.010002  29.959999   \n",
      "\n",
      "                  ZTS  \n",
      "2015-11-24  46.930000  \n",
      "2015-11-25  46.970001  \n",
      "2015-11-26        NaN  \n",
      "2015-11-27  47.080002  \n",
      "2015-11-30  46.700001  \n",
      "\n",
      "[5 rows x 650 columns]\n"
     ]
    }
   ],
   "source": [
    "print(prices.tail())"
   ]
  },
  {
   "cell_type": "markdown",
   "metadata": {},
   "source": [
    "True range:"
   ]
  },
  {
   "cell_type": "code",
   "execution_count": 22,
   "metadata": {
    "collapsed": false
   },
   "outputs": [
    {
     "name": "stdout",
     "output_type": "stream",
     "text": [
      "            0R01  6COP  8686         A   A60    AA       AAL       AAP  \\\n",
      "2015-11-24   NaN   NaN    70  0.990001  9.37  0.23  1.849998  3.038775   \n",
      "2015-11-25   NaN   NaN    10  1.029999  6.54  0.42  0.540001  3.878448   \n",
      "2015-11-26   NaN   NaN     0       NaN  9.53   NaN       NaN       NaN   \n",
      "2015-11-27   NaN   NaN    60  1.040001  0.88  0.16  1.080002  2.049181   \n",
      "2015-11-30   NaN   NaN    20  0.439998  0.33  0.20  1.010002  2.229102   \n",
      "\n",
      "                AAPL   AAZ    ...         XLNX       XOM      XRAY   XRX  \\\n",
      "2015-11-24  2.229995  1.89    ...     1.149998  2.150001  1.338371  0.60   \n",
      "2015-11-25  1.310005  0.58    ...     0.559998  1.070000  0.699150  0.29   \n",
      "2015-11-26       NaN  0.73    ...          NaN       NaN       NaN   NaN   \n",
      "2015-11-27  0.810006  0.81    ...     0.360000  0.800003  0.559320  0.10   \n",
      "2015-11-30  1.660004  1.32    ...     0.770000  1.419999  0.799031  0.18   \n",
      "\n",
      "                 XYL      YHOO       YUM       ZBH      ZION       ZTS  \n",
      "2015-11-24  0.510003  0.750000  1.069999  1.739997  0.519998  0.690003  \n",
      "2015-11-25  0.480000  0.770000  0.510002  1.200004  0.290001  0.570000  \n",
      "2015-11-26       NaN       NaN       NaN       NaN       NaN       NaN  \n",
      "2015-11-27  0.380001  0.720001  0.800003  1.350006  0.600000  0.320000  \n",
      "2015-11-30  0.459999  0.980004  0.650002  1.049995  0.450001  0.790001  \n",
      "\n",
      "[5 rows x 650 columns]\n"
     ]
    }
   ],
   "source": [
    "print(trueRanges.tail())"
   ]
  },
  {
   "cell_type": "code",
   "execution_count": null,
   "metadata": {
    "collapsed": false
   },
   "outputs": [],
   "source": [
    "tickers=prices.columns.values"
   ]
  },
  {
   "cell_type": "markdown",
   "metadata": {},
   "source": [
    "Of the 772 distinct tickers represented in our holdings database, 650 have data available on yahoo finance, while the remaining 122 tickers have no data.\n",
    "\n",
    "Upon closer inspection we can see that there are a number of tickers that have very limited data.\n",
    "\n",
    "The extensive manual data cleaning required to prepare this public data set for robust strategy research is far beyond the scope of this project so we perform some basic data cleaning, then proceed with our modelling efforts. \n",
    "\n",
    "Although the strategy results obtained using this data can provide a useful indication of the behavior of the strategy, the specific performance results are unlikely to be robust given the quality of our data."
   ]
  },
  {
   "cell_type": "markdown",
   "metadata": {},
   "source": [
    "We first examine the data for which prices were not available."
   ]
  },
  {
   "cell_type": "code",
   "execution_count": 24,
   "metadata": {
    "collapsed": false
   },
   "outputs": [
    {
     "name": "stdout",
     "output_type": "stream",
     "text": [
      "                                          0\n",
      "3EC                               EATON PLC\n",
      "4XS              EXPRESS SCRIPTS HOLDING CO\n",
      "ACT                            ACTAVIS INC.\n",
      "ADCT                 ADC TELECOMMUNICATIONS\n",
      "ADP           AUTOMATIC DATA PROCESSING INC\n",
      "AHEB GR                  ALBERTO-CULVER CO.\n",
      "APCC.    AMERICAN POWER CONVERSION CORPORAT\n",
      "ASD               AMERICAN STANDARD COS INC\n",
      "ASO.1                AMSOUTH BANCORPORATION\n",
      "AT.                            ALLTEL CORP.\n",
      "AV.1                             AVAYA INC.\n",
      "AW             ALLIED WASTE INDUSTRIES INC.\n",
      "AYE                        ALLEGHENY ENERGY\n",
      "BF.B              BROWN FORMAN CORP CLASS B\n",
      "BJS                          BJ SERVICES CO\n",
      "BLD WI            TOPBUILD CORP WHEN ISSUED\n",
      "BLS                   BELLSOUTH CORPORATION\n",
      "BMC                       BMC SOFTWARE INC.\n",
      "BMET                            BIOMET INC.\n",
      "BNI                     BURLINGTON NORTHERN\n",
      "BRKB         BERKSHIRE HATHAWAY INC CLASS B\n",
      "BSC.1                BEAR STEARNS COMPANIES\n",
      "BUD.2         ANHEUSER-BUSCH COMPANIES INC.\n",
      "CBE                  COOPER INDUSTRIES INC.\n",
      "CBSS                     COMPASS BANCSHARES\n",
      "CC WI              CHEMOURS ORD WHEN ISSUED\n",
      "CCTYQ               CIRCUIT CITY STORES INC\n",
      "CCU.1     CLEAR CHANNEL COMMUNICATIONS INC.\n",
      "CEPH                           CEPHALON INC\n",
      "CITGQ                  CIT GROUP INC. (OLD)\n",
      "...                                     ...\n",
      "RIG                         TRANSOCEAN INC.\n",
      "RN7                         REGIONS FINANCL\n",
      "RSHCQ                        RS LEGACY CORP\n",
      "RX                          IMS HEALTH INC.\n",
      "SIAL                     SIGMA ALDRICH CORP\n",
      "SLBA                      SCHLUMBERGER LTD.\n",
      "SLE                          SARA LEE CORP.\n",
      "SNV                  SYNOVUS FINANCIAL CORP\n",
      "SSP                   E.W. SCRIPPS CO. CL A\n",
      "STR                            QUESTAR CORP\n",
      "SWY                             SAFEWAY INC\n",
      "SYF-W     SYNCHRONY FINANCIAL - WHEN ISSUED\n",
      "TEG              INTEGRYS ENERGY GROUP INC.\n",
      "TEK                          TEKTRONIX INC.\n",
      "TWX                        TIME WARNER INC.\n",
      "TXU                         TXU CORPORATION\n",
      "TYC                 TYCO INTERNATIONAL LTD.\n",
      "UST.1                              UST INC.\n",
      "UVN           UNIVISION COMMUNICATIONS INC.\n",
      "VISA                               VISA INC\n",
      "VNO               VORNADO REALTY TRUST REIT\n",
      "VZ               VERIZON COMMUNICATIONS INC\n",
      "WAG                                WALGREEN\n",
      "WEN.2             WENDYS INTERNATIONAL INC.\n",
      "WIN                        WINDSTREAM CORP.\n",
      "WMB                            WILLIAMS INC\n",
      "WWY                      WM WRIGLEY JR. CO.\n",
      "WYE                                   WYETH\n",
      "XTO                          XTO ENERGY INC\n",
      "ZMH                     ZIMMER HOLDINGS INC\n",
      "\n",
      "[122 rows x 1 columns]\n"
     ]
    }
   ],
   "source": [
    "print(errorData.sort_index(axis=0))"
   ]
  },
  {
   "cell_type": "markdown",
   "metadata": {},
   "source": [
    "The above list of single stocks for which price data was not available on yahoo includes Bear Stearns (which was absorbed by JP Morgan Chase during the financial crisis), Visa Inc. (which is no longer associated with the ticker VISA, but instead is included in our data set under the ticker V), and Allied Waste Industries Inc. (which was acquired by Republic Services Inc in 2008). Wendy's International Inc. (in the list above under WEN.2) is available from yahoo and is included in our data set.\n",
    "\n",
    "Manually searching by company name allows us to determine how to address many of the issues that arise, the time required to review each ticker and ensure that it has been handled correctly is considerable and out of scope for this project. We proceed with some limited cleaning."
   ]
  },
  {
   "cell_type": "markdown",
   "metadata": {},
   "source": [
    "The first step in our data cleaning process involves applying a 'forward fill' interpolation to fill missing days with the most recent previous day."
   ]
  },
  {
   "cell_type": "code",
   "execution_count": 25,
   "metadata": {
    "collapsed": true
   },
   "outputs": [],
   "source": [
    "# apply forward fill to prices\n",
    "prices=prices.fillna(method='ffill')\n",
    "# apply forward fill to true range\n",
    "trueRanges=trueRanges.fillna(method='ffill')"
   ]
  },
  {
   "cell_type": "markdown",
   "metadata": {},
   "source": [
    "We can see the number of observations available for each ticker using the following operation:"
   ]
  },
  {
   "cell_type": "code",
   "execution_count": 26,
   "metadata": {
    "collapsed": false
   },
   "outputs": [
    {
     "name": "stdout",
     "output_type": "stream",
     "text": [
      "0R01      278\n",
      "6COP     2195\n",
      "8686     2370\n",
      "A        2370\n",
      "A60      1556\n",
      "AA       2370\n",
      "AAL      2370\n",
      "AAP      2370\n",
      "AAPL     2370\n",
      "AAZ      2076\n",
      "ABBV      759\n",
      "ABC      2370\n",
      "ABI       824\n",
      "ABKFQ    2370\n",
      "ABT      2370\n",
      "ACAS     2370\n",
      "ACE      2370\n",
      "ACN      2370\n",
      "ACS      2370\n",
      "ADBE     2370\n",
      "ADI      2370\n",
      "ADM      2370\n",
      "ADS      2370\n",
      "ADSK     2370\n",
      "ADT       826\n",
      "AEC1     2370\n",
      "AEE      2370\n",
      "AEP      2370\n",
      "AES      2370\n",
      "AET      2370\n",
      "         ... \n",
      "WEC      2370\n",
      "WEN      2370\n",
      "WFC      2370\n",
      "WFM      2370\n",
      "WFR      2077\n",
      "WFT      2370\n",
      "WHR      2370\n",
      "WM       2370\n",
      "WMT      2370\n",
      "WPI      2370\n",
      "WPX      1036\n",
      "WRK       114\n",
      "WU       2370\n",
      "WY       2370\n",
      "WYN      2370\n",
      "WYNN     2370\n",
      "X        2370\n",
      "XEC      2370\n",
      "XEL      2370\n",
      "XL       2370\n",
      "XLNX     2370\n",
      "XOM      2370\n",
      "XRAY     2370\n",
      "XRX      2370\n",
      "XYL      1078\n",
      "YHOO     2370\n",
      "YUM      2370\n",
      "ZBH      2370\n",
      "ZION     2370\n",
      "ZTS       737\n",
      "dtype: int64\n"
     ]
    }
   ],
   "source": [
    "# find the number of observations available for each ticker\n",
    "numberOfObservations=numpy.sum(prices.isnull()==False,axis=0)\n",
    "# print the result\n",
    "print(numberOfObservations)"
   ]
  },
  {
   "cell_type": "code",
   "execution_count": 27,
   "metadata": {
    "collapsed": false
   },
   "outputs": [
    {
     "data": {
      "text/plain": [
       "<matplotlib.text.Text at 0x36086208>"
      ]
     },
     "execution_count": 27,
     "metadata": {},
     "output_type": "execute_result"
    },
    {
     "data": {
      "image/png": "[encoded data removed]",
      "text/plain": [
       "<matplotlib.figure.Figure at 0x363ff278>"
      ]
     },
     "metadata": {},
     "output_type": "display_data"
    }
   ],
   "source": [
    "numberOfObservations.hist()\n",
    "plt.xlabel('Number of Observations')\n",
    "plt.ylabel('Number of Tickers')"
   ]
  },
  {
   "cell_type": "markdown",
   "metadata": {},
   "source": [
    "We can see in the above graph that the majority of tickers have 2370 observations. To accelerate our data cleaning we drop all prices for which a full data sample is not available. While this will bias our results, it allows us to evaluate the basic characteristics of our momentum strategy, keeping the project in scope."
   ]
  },
  {
   "cell_type": "code",
   "execution_count": 28,
   "metadata": {
    "collapsed": true
   },
   "outputs": [],
   "source": [
    "# find the single stocks with full samples\n",
    "fullSampleIndex=numberOfObservations==2370\n",
    "# extract the prices and true ranges for the single stocks with full samples\n",
    "cleanPrices=prices.ix[:,fullSampleIndex]\n",
    "cleanTrueRanges=trueRanges.ix[:,fullSampleIndex]"
   ]
  },
  {
   "cell_type": "markdown",
   "metadata": {},
   "source": [
    "The following code is used to graph price and true range for each stock available. This code will not run by default, but can be run by changing the 'generateSingleStockPlots' variable to 'True'."
   ]
  },
  {
   "cell_type": "code",
   "execution_count": 29,
   "metadata": {
    "collapsed": true
   },
   "outputs": [],
   "source": [
    "generateSingleStockPlots=False\n",
    "\n",
    "if (generateSingleStockPlots==True):\n",
    "\n",
    "    tickers=cleanPrices.columns\n",
    "    for ticker in tickers:\n",
    "        tickerName=ticker.replace('/','-')\n",
    "        fig = plt.figure()\n",
    "        cleanPrices[ticker].plot()\n",
    "        plt.title(ticker) \n",
    "        fig.savefig(fileDirectory+tickerName+'_price.png',format='png')\n",
    "        plt.close()\n",
    "        fig = plt.figure()\n",
    "        cleanTrueRanges[ticker].plot()\n",
    "        plt.title(ticker) \n",
    "        fig.savefig(fileDirectory+tickerName+'_range.png',format='png')\n",
    "        plt.close()"
   ]
  },
  {
   "cell_type": "markdown",
   "metadata": {},
   "source": [
    "We review the available data and manually exclude tickers with issues."
   ]
  },
  {
   "cell_type": "code",
   "execution_count": 30,
   "metadata": {
    "collapsed": false
   },
   "outputs": [
    {
     "data": {
      "text/plain": [
       "62"
      ]
     },
     "execution_count": 30,
     "metadata": {},
     "output_type": "execute_result"
    }
   ],
   "source": [
    "excludeTickers=['8686','ABKFQ','ACS','AEC1','AG4','AIG','ANRZQ','ASN','BDK','BEAM','BF/B','BOL',\n",
    "    'BRL','CEG','CFC','CMVT','CMX','CPWR','CVH','DELL','DYNIQ','EKDKQ','ETFC','FMCC','FNMA','FRX',\n",
    "    'HMA','HNZ','HPC','ITT','JNY','LOM','LSI','LTD','LTR','MEDI','MER','MOLX','MTG','MWZ','NYX',\n",
    "    'OMX','PCS','PETM','QLG','REGN','ROH','RTN1','SAF','SBL','SLR','SOV','SWG','THC1','TIE','TLAB',\n",
    "    'TRB','TT','UNS1','USX1','UUM','WPI']\n",
    "len(excludeTickers)"
   ]
  },
  {
   "cell_type": "markdown",
   "metadata": {},
   "source": [
    "We exclude 62 tickers based on manual inspection of the data.\n",
    "\n",
    "We remove each of the tickers identified above using the following code:"
   ]
  },
  {
   "cell_type": "code",
   "execution_count": 31,
   "metadata": {
    "collapsed": true
   },
   "outputs": [],
   "source": [
    "# remove problematic tickers\n",
    "for ticker in excludeTickers:\n",
    "    del cleanPrices[ticker]\n",
    "    del cleanTrueRanges[ticker]"
   ]
  },
  {
   "cell_type": "code",
   "execution_count": 32,
   "metadata": {
    "collapsed": false
   },
   "outputs": [
    {
     "name": "stdout",
     "output_type": "stream",
     "text": [
      "                    A    AA        AAL         AAP        AAPL        ABC  \\\n",
      "2015-11-24  40.669998  9.09  41.230000  163.124570  118.879997  98.500000   \n",
      "2015-11-25  41.340000  9.41  41.310001  164.234125  118.029999  98.930000   \n",
      "2015-11-26  41.340000  9.41  41.310001  164.234125  118.029999  98.930000   \n",
      "2015-11-27  41.970001  9.32  41.689999  164.773902  117.809998  98.989998   \n",
      "2015-11-30  41.820000  9.36  41.259998  162.664747  118.300003  98.639999   \n",
      "\n",
      "                  ABT   ACAS         ACE         ACN    ...            XEL  \\\n",
      "2015-11-24  45.450001  13.90  115.559998  107.349998    ...      35.407107   \n",
      "2015-11-25  45.410000  15.22  115.050003  107.099998    ...      35.179186   \n",
      "2015-11-26  45.410000  15.22  115.050003  107.099998    ...      35.179186   \n",
      "2015-11-27  45.419998  15.54  115.059998  107.459999    ...      35.317920   \n",
      "2015-11-30  44.919998  15.65  114.849998  107.220001    ...      35.337740   \n",
      "\n",
      "                   XL       XLNX        XOM       XRAY    XRX       YHOO  \\\n",
      "2015-11-24  37.980052  49.230000  81.879997  61.045699  10.61  32.959999   \n",
      "2015-11-25  37.641833  49.009998  81.250000  60.875908  10.59  33.160000   \n",
      "2015-11-26  37.641833  49.009998  81.250000  60.875908  10.59  33.160000   \n",
      "2015-11-27  37.820890  49.230000  81.230003  61.035713  10.63  32.939999   \n",
      "2015-11-30  37.980052  49.689999  81.660004  60.586259  10.55  33.810001   \n",
      "\n",
      "                  YUM         ZBH       ZION  \n",
      "2015-11-24  72.379997  101.919998  29.950001  \n",
      "2015-11-25  72.589996  101.290001  29.940001  \n",
      "2015-11-26  72.589996  101.290001  29.940001  \n",
      "2015-11-27  72.959999  101.000000  30.090000  \n",
      "2015-11-30  72.510002  101.010002  29.959999  \n",
      "\n",
      "[5 rows x 497 columns]\n"
     ]
    }
   ],
   "source": [
    "print(cleanPrices.tail())"
   ]
  },
  {
   "cell_type": "code",
   "execution_count": 33,
   "metadata": {
    "collapsed": false
   },
   "outputs": [
    {
     "name": "stdout",
     "output_type": "stream",
     "text": [
      "                   A    AA       AAL       AAP      AAPL       ABC       ABT  \\\n",
      "2015-11-24  0.990001  0.23  1.849998  3.038775  2.229995  0.980003  0.550003   \n",
      "2015-11-25  1.029999  0.42  0.540001  3.878448  1.310005  1.389999  0.370003   \n",
      "2015-11-26  1.029999  0.42  0.540001  3.878448  1.310005  1.389999  0.370003   \n",
      "2015-11-27  1.040001  0.16  1.080002  2.049181  0.810006  1.229996  0.289997   \n",
      "2015-11-30  0.439998  0.20  1.010002  2.229102  1.660004  0.860001  0.620003   \n",
      "\n",
      "            ACAS       ACE       ACN    ...          XEL        XL      XLNX  \\\n",
      "2015-11-24  0.46  1.250000  1.129997    ...     0.584668  0.586910  1.149998   \n",
      "2015-11-25  1.34  0.860001  0.720001    ...     0.396383  0.636647  0.559998   \n",
      "2015-11-26  1.34  0.860001  0.720001    ...     0.396383  0.636647  0.559998   \n",
      "2015-11-27  0.45  0.790001  0.830002    ...     0.455846  0.278537  0.360000   \n",
      "2015-11-30  0.40  1.110000  0.690003    ...     0.356744  0.417798  0.770000   \n",
      "\n",
      "                 XOM      XRAY   XRX      YHOO       YUM       ZBH      ZION  \n",
      "2015-11-24  2.150001  1.338371  0.60  0.750000  1.069999  1.739997  0.519998  \n",
      "2015-11-25  1.070000  0.699150  0.29  0.770000  0.510002  1.200004  0.290001  \n",
      "2015-11-26  1.070000  0.699150  0.29  0.770000  0.510002  1.200004  0.290001  \n",
      "2015-11-27  0.800003  0.559320  0.10  0.720001  0.800003  1.350006  0.600000  \n",
      "2015-11-30  1.419999  0.799031  0.18  0.980004  0.650002  1.049995  0.450001  \n",
      "\n",
      "[5 rows x 497 columns]\n"
     ]
    }
   ],
   "source": [
    "print(cleanTrueRanges.tail())"
   ]
  },
  {
   "cell_type": "markdown",
   "metadata": {},
   "source": [
    "We check for relatively high prices:"
   ]
  },
  {
   "cell_type": "code",
   "execution_count": 34,
   "metadata": {
    "collapsed": false
   },
   "outputs": [
    {
     "name": "stdout",
     "output_type": "stream",
     "text": [
      "                   BTU         PCLN\n",
      "2006-10-31  541.869525    40.290001\n",
      "2006-11-01  527.667559    40.529999\n",
      "2006-11-02  534.381205    39.709999\n",
      "2006-11-03  541.998654    39.700001\n",
      "2006-11-06  544.839037    39.980000\n",
      "2006-11-07  532.960987    40.139999\n",
      "2006-11-08  535.155879    40.400002\n",
      "2006-11-09  550.261595    39.830002\n",
      "2006-11-10  535.414086    40.610001\n",
      "2006-11-13  535.801423    41.349998\n",
      "2006-11-14  536.576096    40.910000\n",
      "2006-11-15  535.155879    40.180000\n",
      "2006-11-16  528.442233    39.849998\n",
      "2006-11-17  542.256861    39.759998\n",
      "2006-11-20  538.383598    39.520000\n",
      "2006-11-21  546.130125    39.889999\n",
      "2006-11-22  548.970507    39.950001\n",
      "2006-11-23  548.970507    39.950001\n",
      "2006-11-24  550.648932    38.750000\n",
      "2006-11-27  543.160612    38.930000\n",
      "2006-11-28  554.134858    38.950001\n",
      "2006-11-29  583.829877    40.049999\n",
      "2006-11-30  594.029449    39.490002\n",
      "2006-12-01  606.682172    39.130001\n",
      "2006-12-04  607.456794    40.310001\n",
      "2006-12-05  621.013215    39.220001\n",
      "2006-12-06  612.621145    39.900002\n",
      "2006-12-07  609.909892    40.169998\n",
      "2006-12-08  615.332450    40.799999\n",
      "2006-12-11  605.132825    41.270000\n",
      "...                ...          ...\n",
      "2015-10-20   23.280001  1372.510010\n",
      "2015-10-21   23.760000  1364.290039\n",
      "2015-10-22   23.590000  1354.469971\n",
      "2015-10-23   23.309999  1366.489990\n",
      "2015-10-26   21.660000  1416.319946\n",
      "2015-10-27   16.930000  1403.280029\n",
      "2015-10-28   17.379999  1404.520020\n",
      "2015-10-29   13.190000  1425.650024\n",
      "2015-10-30   12.790000  1454.239990\n",
      "2015-11-02   13.680000  1467.189941\n",
      "2015-11-03   14.340000  1464.900024\n",
      "2015-11-04   14.600000  1469.560059\n",
      "2015-11-05   15.490000  1462.640015\n",
      "2015-11-06   14.590000  1449.900024\n",
      "2015-11-09   15.090000  1311.150024\n",
      "2015-11-10   14.470000  1323.540039\n",
      "2015-11-11   13.730000  1329.579956\n",
      "2015-11-12   13.510000  1314.010010\n",
      "2015-11-13   13.790000  1297.750000\n",
      "2015-11-16   13.880000  1266.869995\n",
      "2015-11-17   12.680000  1258.790039\n",
      "2015-11-18   12.890000  1278.500000\n",
      "2015-11-19   11.840000  1284.650024\n",
      "2015-11-20   11.290000  1281.530029\n",
      "2015-11-23   11.710000  1264.319946\n",
      "2015-11-24   11.900000  1240.180054\n",
      "2015-11-25   11.280000  1245.750000\n",
      "2015-11-26   11.280000  1245.750000\n",
      "2015-11-27   10.960000  1244.989990\n",
      "2015-11-30   11.400000  1248.849976\n",
      "\n",
      "[2370 rows x 2 columns]\n"
     ]
    }
   ],
   "source": [
    "# determine the max price by ticker\n",
    "maxPriceByTicker=numpy.max(cleanPrices,axis=0)\n",
    "print(cleanPrices.ix[:,maxPriceByTicker>1000])"
   ]
  },
  {
   "cell_type": "code",
   "execution_count": 35,
   "metadata": {
    "collapsed": false
   },
   "outputs": [
    {
     "data": {
      "text/plain": [
       "<matplotlib.text.Text at 0x35fbaa20>"
      ]
     },
     "execution_count": 35,
     "metadata": {},
     "output_type": "execute_result"
    },
    {
     "data": {
      "image/png": "[encoded data removed]",
      "text/plain": [
       "<matplotlib.figure.Figure at 0x3611ad68>"
      ]
     },
     "metadata": {},
     "output_type": "display_data"
    }
   ],
   "source": [
    "# find tickers with prices above 1000\n",
    "cleanPrices.ix[:,maxPriceByTicker>1000].plot()\n",
    "plt.ylabel('Price')\n",
    "plt.xlabel('Time')"
   ]
  },
  {
   "cell_type": "markdown",
   "metadata": {},
   "source": [
    "After some limited investigation it is determined that the prices of the above to stocks are 'clean'.\n",
    "\n",
    "In the next section we outline our momentum strategy."
   ]
  },
  {
   "cell_type": "markdown",
   "metadata": {},
   "source": [
    "# Momentum Strategy Overview"
   ]
  },
  {
   "cell_type": "markdown",
   "metadata": {},
   "source": [
    "In this section, we describe a simple momentum strategy and review an un-optimized Python implementation. First we create a set of un-optimized functions implementing our simple momentum strategy, then we examine the behavior of the strategy using simulated prices. This section is intended to help contextualize the sensitivity and back-test results presented in later sections."
   ]
  },
  {
   "cell_type": "markdown",
   "metadata": {},
   "source": [
    "The following code is used to simulate price paths based on geometric Brownian motion."
   ]
  },
  {
   "cell_type": "code",
   "execution_count": 36,
   "metadata": {
    "collapsed": false
   },
   "outputs": [],
   "source": [
    "def assetPaths(S0,mu,sigma,T,nRows,nPaths):\n",
    "    dt = T/nRows\n",
    "    nudt = (mu-0.5*sigma**2)*dt    \n",
    "    sidt = sigma*math.sqrt(dt)\n",
    "    increments = nudt + sidt*numpy.random.randn(int(nRows),int(nPaths))\n",
    "    x=numpy.concatenate((math.log(S0)*numpy.ones((1,int(nPaths))),increments))\n",
    "    pricePaths=numpy.exp(numpy.cumsum(x,axis=0))\n",
    "\n",
    "    return pricePaths"
   ]
  },
  {
   "cell_type": "markdown",
   "metadata": {},
   "source": [
    "Using the above function, we simulate price paths for an instrument as follows:"
   ]
  },
  {
   "cell_type": "code",
   "execution_count": 37,
   "metadata": {
    "collapsed": false
   },
   "outputs": [
    {
     "name": "stdout",
     "output_type": "stream",
     "text": [
      "Time Elasped: 0.0781705879149\n"
     ]
    }
   ],
   "source": [
    "# set the random seed\n",
    "numpy.random.seed(1234)\n",
    "# set simulation parameters\n",
    "# inital price\n",
    "S0=100.0\n",
    "# mean annual return\n",
    "mu=0.1 \n",
    "# annual volatility (standard deviation)\n",
    "sigma=0.1 \n",
    "# time in years\n",
    "T=3.0\n",
    "# number of time steps\n",
    "nRows=750.0\n",
    "# number of paths / instruments\n",
    "nPaths=1000.0\n",
    "# start timer\n",
    "ts_priceMC = timer()\n",
    "# simulate instrument prices\n",
    "pricePaths=assetPaths(S0,mu,sigma,T,nRows,nPaths)\n",
    "# create true range\n",
    "trueRangePaths=numpy.concatenate((numpy.zeros((1,int(nPaths))),\n",
    "    abs(numpy.diff(pricePaths,axis=0))))\n",
    "# end timer\n",
    "te_priceMC = timer()\n",
    "# compute time elasped\n",
    "timeElasped_priceMC=te_priceMC-ts_priceMC\n",
    "print('Time Elasped: '+str(timeElasped_priceMC))"
   ]
  },
  {
   "cell_type": "markdown",
   "metadata": {},
   "source": [
    "The following functions are used to implement the indicators used within our strategy."
   ]
  },
  {
   "cell_type": "code",
   "execution_count": 67,
   "metadata": {
    "collapsed": true
   },
   "outputs": [],
   "source": [
    "from scipy import stats\n",
    "    \n",
    "def emaNPaths(pricePaths,lookback):\n",
    "    # find T and nPaths\n",
    "    T,nPaths=pricePaths.shape\n",
    "    # create output array\n",
    "    ema=numpy.zeros([int(T),int(nPaths)])\n",
    "    # compute the smoothing constant\n",
    "    a = 2.0 / ( lookback + 1.0 )\n",
    "    # iterate over each price path\n",
    "    for pathIndex in range(0,int(nPaths)):\n",
    "        # iterate over each price path\n",
    "        ema[0,pathIndex] = pricePaths[0,pathIndex]\n",
    "        # iterate over each point in time and compute the EMA \n",
    "        for t in range(1,T):\n",
    "            ema[t,pathIndex]=a * (pricePaths[t,pathIndex]-ema[t-1,\n",
    "                pathIndex]) + ema[t-1,pathIndex]\n",
    "    return ema\n",
    "    \n",
    "# classical momentum\n",
    "def momentum(pricePaths,lookback):\n",
    "    # find T and nPaths\n",
    "    T,nPaths=pricePaths.shape\n",
    "    # create output array\n",
    "    momentumPaths=numpy.zeros([int(T),int(nPaths)])\n",
    "    # iterate over each price path\n",
    "    for pathIndex in range(0,int(nPaths)):\n",
    "        # iterate over each point in time and compute the EMA \n",
    "        for t in range(1,int(T)):\n",
    "            if t>=lookback:\n",
    "                momentumPaths[t,pathIndex]=((1+((numpy.log(pricePaths[t,\n",
    "                    pathIndex])-numpy.log(pricePaths[t-lookback,\n",
    "                    pathIndex]))/lookback))**252)-1\n",
    "\n",
    "    return momentumPaths\n",
    "\n",
    "# regression-based momentum\n",
    "def regressionBasedMomentum(pricePaths,lookback):\n",
    "    # find T and nPaths\n",
    "    T,nPaths=pricePaths.shape\n",
    "    # create the x-axis (time)\n",
    "    x=numpy.arange(0,lookback)\n",
    "    # create output array\n",
    "    momentumPaths=numpy.zeros([int(T),int(nPaths)])\n",
    "    # iterate over each price path\n",
    "    for pathIndex in range(0,int(nPaths)):\n",
    "        # iterate over each point in time and compute the EMA \n",
    "        for t in range(1,int(T)):\n",
    "            if t>=lookback:\n",
    "                # run regression\n",
    "                slope, intercept, r_value, p_value, std_err = stats.linregress(x,\n",
    "                    numpy.log(pricePaths[t-lookback:t,pathIndex]))\n",
    "                # adjust the momentum for smoothness and annualize\n",
    "                momentumPaths[t,pathIndex]=(((1+slope)**252)-1)*(r_value**2)\n",
    "                                                  \n",
    "    return momentumPaths\n",
    "    \n",
    "def gapFilter(pricePaths,lookback,threshold):\n",
    "    # determine the number of rows and paths\n",
    "    nRows,nPaths=pricePaths.shape\n",
    "    # create output array\n",
    "    gap=numpy.zeros([int(nRows),int(nPaths)])\n",
    "    # iterate of each path\n",
    "    for pathIndex in range(0,int(nPaths)):\n",
    "        for t in range(0,int(nRows)):\n",
    "            if t>=lookback:\n",
    "                # find the max return gap over the interval between (t-lookback) and t\n",
    "                gap[t,pathIndex]=numpy.max(numpy.abs(numpy.diff(numpy.log(pricePaths[t-lookback:t,\n",
    "                    pathIndex]))))>=threshold\n",
    "        \n",
    "    return gap"
   ]
  },
  {
   "cell_type": "markdown",
   "metadata": {},
   "source": [
    "The following function implements a classic momentum strategy for a set of stocks. This function is used in later sections pertaining to sensitivity analysis."
   ]
  },
  {
   "cell_type": "code",
   "execution_count": 66,
   "metadata": {
    "collapsed": true
   },
   "outputs": [],
   "source": [
    "def momentumCrossoverWithStopClassic(strategyInputs):\n",
    "    # extract strategy inputs/parameters\n",
    "    \n",
    "    # price by instrument    \n",
    "    pricePaths=strategyInputs['pricePaths']\n",
    "    # true range\n",
    "    trueRangePaths=strategyInputs['trueRangePaths']\n",
    "    # lookback for average true range indicator (ATR)\n",
    "    atrLookback=strategyInputs['atrLookback']\n",
    "    # number of ATRs used in stop placement and position sizing    \n",
    "    atrMultiplier=strategyInputs['atrMultiplier']\n",
    "    # lookback for the 'fast' EMA    \n",
    "    fastLookback=strategyInputs['fastLookback']\n",
    "    # lookback for the 'slow' EMA\n",
    "    slowLookback=strategyInputs['slowLookback']\n",
    "    # lookback for the momentum indicator\n",
    "    momentumLookback=strategyInputs['momentumLookback']\n",
    "    # True=long-only, False=long/short    \n",
    "    longOnly=strategyInputs['longOnly']\n",
    "    # initial account size    \n",
    "    accountSize=strategyInputs['accountSize']\n",
    "    fPercent=strategyInputs['fPercent']\n",
    "    # number of days between portfolio rebalance    \n",
    "    rebalanceN=strategyInputs['rebalanceN']\n",
    "    # number of positions allowed    \n",
    "    nPositions=strategyInputs['nPositions']\n",
    "    # pre-compute the average true range\n",
    "    atr=emaNPaths(trueRangePaths,atrLookback)\n",
    "    # pre-compute fast EMA \n",
    "    emaFast=emaNPaths(pricePaths,fastLookback)\n",
    "    # pre-compute slow EMA\n",
    "    emaSlow=emaNPaths(pricePaths,slowLookback)\n",
    "    # find the longest lookback\n",
    "    lookback=numpy.max([fastLookback,slowLookback,atrLookback,momentumLookback])\n",
    "    # determine the number of rows (T) and paths (instruments)\n",
    "    T,nPaths=pricePaths.shape\n",
    "    \n",
    "    # create the output arrays\n",
    "    position=numpy.zeros([int(T),int(nPaths)])\n",
    "    stopLevel=numpy.zeros([int(T),int(nPaths)])\n",
    "    momentumPaths=numpy.zeros([int(T),int(nPaths)])\n",
    "\n",
    "    stopLevel[:] = numpy.nan\n",
    "    \n",
    "    tradeSize=numpy.zeros([int(1),int(nPaths)])\n",
    "    tradePrice=numpy.zeros([int(1),int(nPaths)])\n",
    "    exitMarkToMarket=numpy.zeros([int(1),int(nPaths)])\n",
    "    costOfExposure=numpy.zeros([int(1),int(nPaths)])\n",
    "    PnL_Realized=numpy.zeros([int(1),int(nPaths)])\n",
    "    PnL_Unrealized=numpy.zeros([int(1),int(nPaths)])\n",
    "    momentumRank=numpy.zeros([int(1),int(nPaths)])\n",
    "    \n",
    "    riskCapital=numpy.zeros([int(1),int(nPaths)])\n",
    "    cash=numpy.zeros([int(1),int(nPaths)])\n",
    "    \n",
    "    cumulativePnL=numpy.zeros([int(T),int(nPaths)])\n",
    "    cumulativeRealizedPnL=numpy.zeros([int(T),int(nPaths)])\n",
    "    cumulativeUnrealizedPnL=numpy.zeros([int(T),int(nPaths)])\n",
    "    WAC=numpy.zeros([int(T),int(nPaths)])\n",
    "    equityCurves=numpy.zeros([int(T),int(nPaths)])   \n",
    "    equityCurve=numpy.zeros([int(T),int(1)])\n",
    "    closedEquityCurve=numpy.zeros([int(T),int(1)])\n",
    "    numberOfPositions=numpy.zeros([int(T),int(1)])\n",
    "\n",
    "    equityCurve[0]=accountSize\n",
    "    closedEquityCurve[0]=accountSize    \n",
    "            \n",
    "    rebalance=0\n",
    "        \n",
    "    # iterate over each point in time\n",
    "    for t in range(1,int(T)):  \n",
    "        # iterate over each price path\n",
    "        for pathIndex in range(0,int(nPaths)):\n",
    "            # ignore the indicator build-up period\n",
    "            \n",
    "            if (t == lookback):\n",
    "                momentumPaths[t,pathIndex]=((1+((numpy.log(pricePaths[t,pathIndex])-numpy.log(pricePaths[t-momentumLookback,pathIndex]))/lookback))**252)-1\n",
    "                #momentumPaths[t,pathIndex]=momentumIndicator[t-1,pathIndex]                      \n",
    "            elif (t>lookback):           \n",
    "                #               \n",
    "                if (rebalance == rebalanceN):\n",
    "                    momentumPaths[t,pathIndex]=((1+((numpy.log(pricePaths[t,pathIndex])-numpy.log(pricePaths[t-momentumLookback,pathIndex]))/lookback))**252)-1\n",
    "                    #momentumPaths[t,pathIndex]=momentumIndicator[t-1,pathIndex]          \n",
    "                # we are flat\n",
    "                if (position[t-1,pathIndex] == 0.0):\n",
    "                    # trend is up and rank is high enough\n",
    "                    if ( (emaFast[t-1,pathIndex] > emaSlow[t-1,pathIndex]) & (momentumRank[0,pathIndex]<=nPositions) ):\n",
    "                        # go long\n",
    "                        position[t,pathIndex]=numpy.floor( ( fPercent*(closedEquityCurve[t-1]) ) / (atr[t-1,pathIndex]*atrMultiplier) )\n",
    "                        # set the initial stop (multiplier x atr) below the current price\n",
    "                        stopLevel[t,pathIndex] = pricePaths[t,pathIndex] - (atr[t-1,pathIndex]*atrMultiplier)\n",
    "                        #\n",
    "                        cash[0,pathIndex]=(position[t,pathIndex]*pricePaths[t,pathIndex])*-1\n",
    "                        #\n",
    "                        riskCapital[0,pathIndex]=(atr[t-1,pathIndex]*atrMultiplier)*position[t,pathIndex]\n",
    "                                                \n",
    "                    # trend is down and rank is high enough\n",
    "                    elif ( (emaFast[t-1,pathIndex] < emaSlow[t-1,pathIndex]) & (longOnly==False) & (momentumRank[0,pathIndex]<=nPositions) ):\n",
    "                        # go short\n",
    "                        position[t,pathIndex]=-numpy.floor( ( fPercent*(closedEquityCurve[t-1]) ) / (atr[t-1,pathIndex]*atrMultiplier) )\n",
    "                        # place the initial stop (multiplier x atr) above the current price\n",
    "                        stopLevel[t,pathIndex] = pricePaths[t,pathIndex] + (atr[t-1,pathIndex]*atrMultiplier)\n",
    "                        #\n",
    "                        cash[0,pathIndex]=(position[t,pathIndex]*pricePaths[t,pathIndex])*-1\n",
    "                        #\n",
    "                        riskCapital[0,pathIndex]=(atr[t-1,pathIndex]*atrMultiplier)*position[t,pathIndex]\n",
    "                    \n",
    "                    else:\n",
    "                        position[t,pathIndex]=position[t-1,pathIndex]\n",
    "                                      \n",
    "                # we have a position\n",
    "                elif (position[t-1,pathIndex] !=0.0):\n",
    "                           \n",
    "                    # if we are long\n",
    "                    if (position[t-1,pathIndex] > 0.0):\n",
    "                        \n",
    "                        # check if the price is at or below the stop or rank is too low\n",
    "                        if ((pricePaths[t,pathIndex] <= stopLevel[t-1,pathIndex]) | (momentumRank[0,pathIndex]>nPositions)):\n",
    "                            #\n",
    "                            cash[0,pathIndex]=(pricePaths[t,pathIndex]*position[t,pathIndex])\n",
    "                            # flatten position, clear stop\n",
    "                            position[t,pathIndex]=0.0\n",
    "                            #\n",
    "                            stopLevel[t,pathIndex]=numpy.nan\n",
    "                            #\n",
    "                            riskCapital[0,pathIndex]=0                   \n",
    "                                         \n",
    "                        # we are not stopped out maintain the position and update the stop level\n",
    "                        else:\n",
    "                            # maintain the position\n",
    "                            position[t,pathIndex]=position[t-1,pathIndex]\n",
    "                                                        \n",
    "                            # update the stop\n",
    "                            # check it the stop should be moved up\n",
    "                            if ( (pricePaths[t,pathIndex] - (atr[t-1,pathIndex]*atrMultiplier)) > stopLevel[t-1,pathIndex] ):\n",
    "                                stopLevel[t,pathIndex]=pricePaths[t,pathIndex] - (atr[t-1,pathIndex]*atrMultiplier)\n",
    "                            # keep the stop the same\n",
    "                            else:\n",
    "                                stopLevel[t,pathIndex]=stopLevel[t-1,pathIndex]     \n",
    "\n",
    "                    # if we are short\n",
    "                    elif ((position[t-1,pathIndex] < 0.0) & (longOnly==False)):\n",
    "                        # check if the price is at or above the stop or rank is too low\n",
    "                        if ((pricePaths[t,pathIndex] >= stopLevel[t-1,pathIndex]) | (momentumRank[0,pathIndex]>nPositions)):\n",
    "                            #\n",
    "                            cash[0,pathIndex]=-(pricePaths[t,pathIndex]*position[t,pathIndex])                                                        \n",
    "                            # flatten position, clear stop\n",
    "                            position[t,pathIndex]=0\n",
    "                            stopLevel[t,pathIndex]=numpy.nan\n",
    "                            #\n",
    "                            riskCapital[0,pathIndex]=0 \n",
    "                                                       \n",
    "                        # we are not stopped out maintain the position and update the stop level    \n",
    "                        else:\n",
    "                            # maintain the position\n",
    "                            position[t,pathIndex]=position[t-1,pathIndex]\n",
    "                                                        \n",
    "                            # update the stop\n",
    "                            # check if the stop should be moved down\n",
    "                            if ( (pricePaths[t,pathIndex] + (atr[t-1,pathIndex]*atrMultiplier) ) < stopLevel[t-1,pathIndex]):\n",
    "                                stopLevel[t,pathIndex]=pricePaths[t,pathIndex] + (atr[t-1,pathIndex]*atrMultiplier)\n",
    "                            # keep the stop the same\n",
    "                            else:\n",
    "                                stopLevel[t,pathIndex]=stopLevel[t-1,pathIndex]\n",
    "              \n",
    "                #\n",
    "                tradeSize[0,pathIndex] = position[t,pathIndex] - position[t-1,pathIndex]\n",
    "                \n",
    "                if (tradeSize[0,pathIndex] != 0.0):\n",
    "                    tradePrice[0,pathIndex] = pricePaths[t,pathIndex]\n",
    "                else:\n",
    "                    tradePrice[0,pathIndex] = 0.0\n",
    "                \n",
    "                # determine the  current liquidation value  \n",
    "                exitMarkToMarket[0,pathIndex] = pricePaths[t,pathIndex] * position[t,pathIndex]\n",
    "     \n",
    "                # P&L\n",
    "                if(tradeSize[0,pathIndex]==0.0):    \n",
    "                    PnL_Unrealized[0,pathIndex] = exitMarkToMarket[0,pathIndex] - costOfExposure[0,\n",
    "                        pathIndex]\n",
    "                else:\n",
    "                    if(position[t,pathIndex]==0.0):\n",
    "                        PnL_Realized[0,pathIndex] = ( tradePrice[0,pathIndex] * position[t-1,pathIndex] - \\\n",
    "                            costOfExposure[0,pathIndex] + PnL_Realized[0,pathIndex] )\n",
    "                        costOfExposure[0,pathIndex] = 0.0\n",
    "                        PnL_Unrealized[0,pathIndex] = 0.0\n",
    "                    else:\n",
    "                        PnL_Realized[0,pathIndex] = PnL_Realized[0,pathIndex]\n",
    "                        costOfExposure[0,pathIndex] = costOfExposure[0,pathIndex] + tradePrice[0,pathIndex] * tradeSize[0,pathIndex]\n",
    "                        PnL_Unrealized[0,pathIndex] = exitMarkToMarket[0,pathIndex] - costOfExposure[0,pathIndex]      \n",
    "         \n",
    "                # compute the cumulative P&L (realized + unrealized) and store\n",
    "                cumulativePnL[t,pathIndex] = PnL_Realized[0,pathIndex] + PnL_Unrealized[0,pathIndex]\n",
    "                cumulativeRealizedPnL[t,pathIndex] = PnL_Realized[0,pathIndex]\n",
    "                cumulativeUnrealizedPnL[t,pathIndex] = PnL_Unrealized[0,pathIndex]\n",
    "                WAC[t,pathIndex] = costOfExposure[0,pathIndex]\n",
    "                # create equity curve\n",
    "                equityCurves[t,pathIndex]=cumulativePnL[t,pathIndex]+riskCapital[0,pathIndex]\n",
    "\n",
    "        # sum P&L for each instrument in the portfolio\n",
    "        equityCurve[t]=numpy.sum(cumulativePnL[t,:],axis=0)+accountSize\n",
    "        # sum realized P&L for each instrument in the portfolio\n",
    "        closedEquityCurve[t]=numpy.sum(cumulativeRealizedPnL[t,:],axis=0)+accountSize\n",
    "            \n",
    "        # compute the momentum rank\n",
    "        if ((rebalance == rebalanceN) | (t == lookback)):\n",
    "            # sort the momentum\n",
    "            momentumIndex=numpy.argsort(momentumPaths[t,:]*-1, axis=0)\n",
    "            # assign the momentum rank\n",
    "            momentumRank[0,momentumIndex]=numpy.arange(1,nPaths+1)            \n",
    "            # count the number of positions\n",
    "            numberOfPositions[t]=len(momentumRank[-1,momentumRank[-1,:]<=nPositions])\n",
    "            # reset the rebalance counter\n",
    "            rebalance=0\n",
    "\n",
    "        # increment the counter\n",
    "        rebalance=rebalance+1.0                             \n",
    "\n",
    "    # create output data structure (to make the code more readable)\n",
    "    strategyOutput=dict()\n",
    "    # assign output    \n",
    "    strategyOutput['position']=position\n",
    "    strategyOutput['stopLevel']=stopLevel\n",
    "    strategyOutput['atr']=atr\n",
    "    strategyOutput['emaFast']=emaFast\n",
    "    strategyOutput['emaSlow']=emaSlow\n",
    "    strategyOutput['cumulativePnL']=cumulativePnL\n",
    "    strategyOutput['cumulativeRealizedPnL']=cumulativeRealizedPnL\n",
    "    strategyOutput['cumulativeUnrealizedPnL']=cumulativeUnrealizedPnL\n",
    "    strategyOutput['WAC']=WAC\n",
    "    strategyOutput['quityCurve']=equityCurve\n",
    "    strategyOutput['momentumPaths']=momentumPaths\n",
    "    strategyOutput['cash']=cash\n",
    "    strategyOutput['equityCurves']=equityCurves\n",
    "    strategyOutput['equityCurve']=equityCurve\n",
    "    strategyOutput['closedEquityCurve']=closedEquityCurve\n",
    "    strategyOutput['numberOfPositions']=numberOfPositions\n",
    "    \n",
    "    # return output                                                                                   \n",
    "    return strategyOutput"
   ]
  },
  {
   "cell_type": "markdown",
   "metadata": {},
   "source": [
    "The following function implements a slight variation on the classic momentum strategy for a set of stocks. This version of the strategy uses a volatility-normalized measure of momentum and is used in the historical back-test section of the paper. "
   ]
  },
  {
   "cell_type": "code",
   "execution_count": 68,
   "metadata": {
    "collapsed": false
   },
   "outputs": [],
   "source": [
    "def momentumCrossoverWithStop(strategyInputs):\n",
    "    # extract strategy inputs/parameters\n",
    "    \n",
    "    # price by instrument    \n",
    "    pricePaths=strategyInputs['pricePaths']\n",
    "    # true range\n",
    "    trueRangePaths=strategyInputs['trueRangePaths']\n",
    "    # lookback for average true range indicator (ATR)\n",
    "    atrLookback=strategyInputs['atrLookback']\n",
    "    # number of ATRs used in stop placement and position sizing    \n",
    "    atrMultiplier=strategyInputs['atrMultiplier']\n",
    "    # lookback for the 'fast' EMA    \n",
    "    fastLookback=strategyInputs['fastLookback']\n",
    "    # lookback for the 'slow' EMA\n",
    "    slowLookback=strategyInputs['slowLookback']\n",
    "    # lookback for the momentum indicator\n",
    "    momentumLookback=strategyInputs['momentumLookback']\n",
    "    # True=long-only, False=long/short    \n",
    "    longOnly=strategyInputs['longOnly']\n",
    "    # initial account size    \n",
    "    accountSize=strategyInputs['accountSize']\n",
    "    fPercent=strategyInputs['fPercent']\n",
    "    # number of days between portfolio rebalance    \n",
    "    rebalanceN=strategyInputs['rebalanceN']\n",
    "    # number of positions allowed    \n",
    "    nPositions=strategyInputs['nPositions']\n",
    "    # pre-compute the average true range\n",
    "    atr=emaNPaths(trueRangePaths,atrLookback)\n",
    "    # pre-compute fast EMA \n",
    "    emaFast=emaNPaths(pricePaths,fastLookback)\n",
    "    # pre-compute slow EMA\n",
    "    emaSlow=emaNPaths(pricePaths,slowLookback)\n",
    "    # find the longest lookback\n",
    "    lookback=numpy.max([fastLookback,slowLookback,atrLookback,momentumLookback])\n",
    "    # determine the number of rows (T) and paths (instruments)\n",
    "    T,nPaths=pricePaths.shape\n",
    "    \n",
    "    # create the output arrays\n",
    "    position=numpy.zeros([int(T),int(nPaths)])\n",
    "    stopLevel=numpy.zeros([int(T),int(nPaths)])\n",
    "    momentumPaths=numpy.zeros([int(T),int(nPaths)])\n",
    "    # compute momentum\n",
    "    momentumIndicator=regressionBasedMomentum(pricePaths,momentumLookback)\n",
    "    \n",
    "    stopLevel[:] = numpy.nan\n",
    "    \n",
    "    tradeSize=numpy.zeros([int(1),int(nPaths)])\n",
    "    tradePrice=numpy.zeros([int(1),int(nPaths)])\n",
    "    exitMarkToMarket=numpy.zeros([int(1),int(nPaths)])\n",
    "    costOfExposure=numpy.zeros([int(1),int(nPaths)])\n",
    "    PnL_Realized=numpy.zeros([int(1),int(nPaths)])\n",
    "    PnL_Unrealized=numpy.zeros([int(1),int(nPaths)])\n",
    "    momentumRank=numpy.zeros([int(1),int(nPaths)])\n",
    "    \n",
    "    riskCapital=numpy.zeros([int(1),int(nPaths)])\n",
    "    cash=numpy.zeros([int(1),int(nPaths)])\n",
    "    \n",
    "    cumulativePnL=numpy.zeros([int(T),int(nPaths)])\n",
    "    cumulativeRealizedPnL=numpy.zeros([int(T),int(nPaths)])\n",
    "    cumulativeUnrealizedPnL=numpy.zeros([int(T),int(nPaths)])\n",
    "    WAC=numpy.zeros([int(T),int(nPaths)])\n",
    "    equityCurves=numpy.zeros([int(T),int(nPaths)])   \n",
    "    equityCurve=numpy.zeros([int(T),int(1)])\n",
    "    closedEquityCurve=numpy.zeros([int(T),int(1)])\n",
    "    numberOfPositions=numpy.zeros([int(T),int(1)])\n",
    "\n",
    "    equityCurve[0]=accountSize\n",
    "    closedEquityCurve[0]=accountSize    \n",
    "            \n",
    "    rebalance=0\n",
    "        \n",
    "    # iterate over each point in time\n",
    "    for t in range(1,int(T)):  \n",
    "        # iterate over each price path\n",
    "        for pathIndex in range(0,int(nPaths)):\n",
    "            # ignore the indicator build-up period\n",
    "            \n",
    "            if (t == lookback):\n",
    "                #momentumPaths[t,pathIndex]=((1+((numpy.log(pricePaths[t,pathIndex])-numpy.log(pricePaths[t-momentumLookback,pathIndex]))/lookback))**252)-1\n",
    "                momentumPaths[t,pathIndex]=momentumIndicator[t-1,pathIndex]                      \n",
    "            elif (t>lookback):           \n",
    "                #               \n",
    "                if (rebalance == rebalanceN):\n",
    "                    #momentumPaths[t,pathIndex]=((1+((numpy.log(pricePaths[t,pathIndex])-numpy.log(pricePaths[t-momentumLookback,pathIndex]))/lookback))**252)-1\n",
    "                    momentumPaths[t,pathIndex]=momentumIndicator[t-1,pathIndex]          \n",
    "                # we are flat\n",
    "                if (position[t-1,pathIndex] == 0.0):\n",
    "                    # trend is up and rank is high enough\n",
    "                    if ( (emaFast[t-1,pathIndex] > emaSlow[t-1,pathIndex]) & (momentumRank[0,pathIndex]<=nPositions) ):\n",
    "                        # go long\n",
    "                        position[t,pathIndex]=numpy.floor( ( fPercent*(closedEquityCurve[t-1]) ) / (atr[t-1,pathIndex]*atrMultiplier) )\n",
    "                        # set the initial stop (multiplier x atr) below the current price\n",
    "                        stopLevel[t,pathIndex] = pricePaths[t,pathIndex] - (atr[t-1,pathIndex]*atrMultiplier)\n",
    "                        #\n",
    "                        cash[0,pathIndex]=(position[t,pathIndex]*pricePaths[t,pathIndex])*-1\n",
    "                        #\n",
    "                        riskCapital[0,pathIndex]=(atr[t-1,pathIndex]*atrMultiplier)*position[t,pathIndex]\n",
    "                                                \n",
    "                    # trend is down and rank is high enough\n",
    "                    elif ( (emaFast[t-1,pathIndex] < emaSlow[t-1,pathIndex]) & (longOnly==False) & (momentumRank[0,pathIndex]<=nPositions) ):\n",
    "                        # go short\n",
    "                        position[t,pathIndex]=-numpy.floor( ( fPercent*(closedEquityCurve[t-1]) ) / (atr[t-1,pathIndex]*atrMultiplier) )\n",
    "                        # place the initial stop (multiplier x atr) above the current price\n",
    "                        stopLevel[t,pathIndex] = pricePaths[t,pathIndex] + (atr[t-1,pathIndex]*atrMultiplier)\n",
    "                        #\n",
    "                        cash[0,pathIndex]=(position[t,pathIndex]*pricePaths[t,pathIndex])*-1\n",
    "                        #\n",
    "                        riskCapital[0,pathIndex]=(atr[t-1,pathIndex]*atrMultiplier)*position[t,pathIndex]\n",
    "                    \n",
    "                    else:\n",
    "                        position[t,pathIndex]=position[t-1,pathIndex]\n",
    "                                      \n",
    "                # we have a position\n",
    "                elif (position[t-1,pathIndex] !=0.0):\n",
    "                           \n",
    "                    # if we are long\n",
    "                    if (position[t-1,pathIndex] > 0.0):\n",
    "                        \n",
    "                        # check if the price is at or below the stop or rank is too low\n",
    "                        if ((pricePaths[t,pathIndex] <= stopLevel[t-1,pathIndex]) | (momentumRank[0,pathIndex]>nPositions)):\n",
    "                            #\n",
    "                            cash[0,pathIndex]=(pricePaths[t,pathIndex]*position[t,pathIndex])\n",
    "                            # flatten position, clear stop\n",
    "                            position[t,pathIndex]=0.0\n",
    "                            #\n",
    "                            stopLevel[t,pathIndex]=numpy.nan\n",
    "                            #\n",
    "                            riskCapital[0,pathIndex]=0                   \n",
    "                                         \n",
    "                        # we are not stopped out maintain the position and update the stop level\n",
    "                        else:\n",
    "                            # maintain the position\n",
    "                            position[t,pathIndex]=position[t-1,pathIndex]\n",
    "                                                        \n",
    "                            # update the stop\n",
    "                            # check it the stop should be moved up\n",
    "                            if ( (pricePaths[t,pathIndex] - (atr[t-1,pathIndex]*atrMultiplier)) > stopLevel[t-1,pathIndex] ):\n",
    "                                stopLevel[t,pathIndex]=pricePaths[t,pathIndex] - (atr[t-1,pathIndex]*atrMultiplier)\n",
    "                            # keep the stop the same\n",
    "                            else:\n",
    "                                stopLevel[t,pathIndex]=stopLevel[t-1,pathIndex]     \n",
    "\n",
    "                    # if we are short\n",
    "                    elif ((position[t-1,pathIndex] < 0.0) & (longOnly==False)):\n",
    "                        # check if the price is at or above the stop or rank is too low\n",
    "                        if ((pricePaths[t,pathIndex] >= stopLevel[t-1,pathIndex]) | (momentumRank[0,pathIndex]>nPositions)):\n",
    "                            #\n",
    "                            cash[0,pathIndex]=-(pricePaths[t,pathIndex]*position[t,pathIndex])                                                        \n",
    "                            # flatten position, clear stop\n",
    "                            position[t,pathIndex]=0\n",
    "                            stopLevel[t,pathIndex]=numpy.nan\n",
    "                            #\n",
    "                            riskCapital[0,pathIndex]=0 \n",
    "                                                       \n",
    "                        # we are not stopped out maintain the position and update the stop level    \n",
    "                        else:\n",
    "                            # maintain the position\n",
    "                            position[t,pathIndex]=position[t-1,pathIndex]\n",
    "                                                        \n",
    "                            # update the stop\n",
    "                            # check if the stop should be moved down\n",
    "                            if ( (pricePaths[t,pathIndex] + (atr[t-1,pathIndex]*atrMultiplier) ) < stopLevel[t-1,pathIndex]):\n",
    "                                stopLevel[t,pathIndex]=pricePaths[t,pathIndex] + (atr[t-1,pathIndex]*atrMultiplier)\n",
    "                            # keep the stop the same\n",
    "                            else:\n",
    "                                stopLevel[t,pathIndex]=stopLevel[t-1,pathIndex]\n",
    "              \n",
    "                #\n",
    "                tradeSize[0,pathIndex] = position[t,pathIndex] - position[t-1,pathIndex]\n",
    "                \n",
    "                if (tradeSize[0,pathIndex] != 0.0):\n",
    "                    tradePrice[0,pathIndex] = pricePaths[t,pathIndex]\n",
    "                else:\n",
    "                    tradePrice[0,pathIndex] = 0.0\n",
    "                \n",
    "                # determine the  current liquidation value  \n",
    "                exitMarkToMarket[0,pathIndex] = pricePaths[t,pathIndex] * position[t,pathIndex]\n",
    "     \n",
    "                # P&L\n",
    "                if(tradeSize[0,pathIndex]==0.0):    \n",
    "                    PnL_Unrealized[0,pathIndex] = exitMarkToMarket[0,pathIndex] - costOfExposure[0,\n",
    "                        pathIndex]\n",
    "                else:\n",
    "                    if(position[t,pathIndex]==0.0):\n",
    "                        PnL_Realized[0,pathIndex] = ( tradePrice[0,pathIndex] * position[t-1,pathIndex] - \\\n",
    "                            costOfExposure[0,pathIndex] + PnL_Realized[0,pathIndex] )\n",
    "                        costOfExposure[0,pathIndex] = 0.0\n",
    "                        PnL_Unrealized[0,pathIndex] = 0.0\n",
    "                    else:\n",
    "                        PnL_Realized[0,pathIndex] = PnL_Realized[0,pathIndex]\n",
    "                        costOfExposure[0,pathIndex] = costOfExposure[0,pathIndex] + tradePrice[0,pathIndex] * tradeSize[0,pathIndex]\n",
    "                        PnL_Unrealized[0,pathIndex] = exitMarkToMarket[0,pathIndex] - costOfExposure[0,pathIndex]      \n",
    "         \n",
    "                # compute the cumulative P&L (realized + unrealized) and store\n",
    "                cumulativePnL[t,pathIndex] = PnL_Realized[0,pathIndex] + PnL_Unrealized[0,pathIndex]\n",
    "                cumulativeRealizedPnL[t,pathIndex] = PnL_Realized[0,pathIndex]\n",
    "                cumulativeUnrealizedPnL[t,pathIndex] = PnL_Unrealized[0,pathIndex]\n",
    "                WAC[t,pathIndex] = costOfExposure[0,pathIndex]\n",
    "                # create equity curve\n",
    "                equityCurves[t,pathIndex]=cumulativePnL[t,pathIndex]+riskCapital[0,pathIndex]\n",
    "\n",
    "        # sum P&L for each instrument in the portfolio\n",
    "        equityCurve[t]=numpy.sum(cumulativePnL[t,:],axis=0)+accountSize\n",
    "        # sum realized P&L for each instrument in the portfolio\n",
    "        closedEquityCurve[t]=numpy.sum(cumulativeRealizedPnL[t,:],axis=0)+accountSize\n",
    "            \n",
    "        # compute the momentum rank\n",
    "        if ((rebalance == rebalanceN) | (t == lookback)):\n",
    "            # sort the momentum\n",
    "            momentumIndex=numpy.argsort(momentumPaths[t,:]*-1, axis=0)\n",
    "            # assign the momentum rank\n",
    "            momentumRank[0,momentumIndex]=numpy.arange(1,nPaths+1)            \n",
    "            # count the number of positions\n",
    "            numberOfPositions[t]=len(momentumRank[-1,momentumRank[-1,:]<=nPositions])\n",
    "            # reset the rebalance counter\n",
    "            rebalance=0\n",
    "\n",
    "        # increment the counter\n",
    "        rebalance=rebalance+1.0                             \n",
    "\n",
    "    # create output data structure (to make the code more readable)\n",
    "    strategyOutput=dict()\n",
    "    # assign output    \n",
    "    strategyOutput['position']=position\n",
    "    strategyOutput['stopLevel']=stopLevel\n",
    "    strategyOutput['atr']=atr\n",
    "    strategyOutput['emaFast']=emaFast\n",
    "    strategyOutput['emaSlow']=emaSlow\n",
    "    strategyOutput['cumulativePnL']=cumulativePnL\n",
    "    strategyOutput['cumulativeRealizedPnL']=cumulativeRealizedPnL\n",
    "    strategyOutput['cumulativeUnrealizedPnL']=cumulativeUnrealizedPnL\n",
    "    strategyOutput['WAC']=WAC\n",
    "    strategyOutput['quityCurve']=equityCurve\n",
    "    strategyOutput['momentumPaths']=momentumPaths\n",
    "    strategyOutput['cash']=cash\n",
    "    strategyOutput['equityCurves']=equityCurves\n",
    "    strategyOutput['equityCurve']=equityCurve\n",
    "    strategyOutput['closedEquityCurve']=closedEquityCurve\n",
    "    strategyOutput['numberOfPositions']=numberOfPositions\n",
    "    \n",
    "    # return output                                                                                   \n",
    "    return strategyOutput"
   ]
  },
  {
   "cell_type": "markdown",
   "metadata": {},
   "source": [
    "The following functions are used to plot different strategy outputs."
   ]
  },
  {
   "cell_type": "code",
   "execution_count": 69,
   "metadata": {
    "collapsed": true
   },
   "outputs": [],
   "source": [
    "def plotPosition(x,position,nPositions):\n",
    "    fig = plt.figure()\n",
    "    # fill zero positions with NaNs\n",
    "    averagePosition=numpy.sum(position/nPositions,axis=1)\n",
    "    averagePosition[averagePosition==0.0]=numpy.nan\n",
    "    position[position==0]=numpy.nan\n",
    "    plt.plot(x,averagePosition,'r',label='Average Position')\n",
    "    plt.plot(x,position,'b',label='Position',alpha=0.2)\n",
    "    plt.xlabel(\"Time\",fontsize=10)\n",
    "    plt.ylabel(\"Position\",fontsize=10)\n",
    "    plt.title('Momentum Positions',fontsize=10)\n",
    "    plt.grid(True)\n",
    "    plt.legend(['Positions'],loc='upper left')\n",
    "    \n",
    "    return\n",
    "\n",
    "def plotPnL(x,cumulativePnL,nPositions):\n",
    "    fig = plt.figure()\n",
    "    # fill zero positions with NaNs\n",
    "    averagePnL=numpy.sum(cumulativePnL/nPositions,axis=1)\n",
    "    plt.plot(x,averagePnL,'r',label='Average P&L')\n",
    "    plt.plot(x,cumulativePnL,'b',label='Position P&L',alpha=0.1)\n",
    "    plt.xlabel(\"Time\",fontsize=10)\n",
    "    plt.ylabel(\"P&L\",fontsize=10)\n",
    "    plt.title('Momentum P&L',fontsize=10)\n",
    "    plt.grid(True)   \n",
    "    plt.legend(['Average P&L','Position P&L'],loc='upper left')\n",
    "\n",
    "    return\n",
    "\n",
    "def plotTotalPnL(x,cumulativePnL):\n",
    "    fig = plt.figure()\n",
    "    # fill zero positions with NaNs\n",
    "    totalPnL=numpy.sum(cumulativePnL,axis=1)\n",
    "    plt.plot(x,totalPnL,'r',label='Total P&L')\n",
    "    plt.xlabel(\"Time\",fontsize=10)\n",
    "    plt.ylabel(\"P&L\",fontsize=10)\n",
    "    plt.title('Momentum Total P&L',fontsize=10)\n",
    "    plt.grid(True)   \n",
    "    plt.legend(['Total P&L'],loc='upper left')\n",
    "\n",
    "    return      \n",
    "\n",
    "def plotSignal(x,pricePaths,emaFast,emaSlow,stopLevel,position,fastLookback,slowLookback):\n",
    "    fig = plt.figure()\n",
    "    lengthOfPositions=numpy.sum(position!=0,axis=0)\n",
    "    longestPositionIndex=numpy.argmax(lengthOfPositions,axis=0)\n",
    "    plt.plot(x,pricePaths[:,longestPositionIndex],label='price')\n",
    "    plt.plot(x,emaFast[:,longestPositionIndex],label='fast EMA['+str(int(fastLookback))+']')\n",
    "    plt.plot(x,emaSlow[:,longestPositionIndex],label='slow EMA['+str(int(slowLookback))+']')\n",
    "    plt.plot(x,stopLevel[:,longestPositionIndex],label='stop')\n",
    "    plt.xlabel(\"Time\",fontsize=10)\n",
    "    plt.ylabel(\"Price\",fontsize=10)\n",
    "    plt.title('Signals',fontsize=10)\n",
    "    plt.grid(True)\n",
    "    plt.legend(['Price','Fast EMA['+str(int(fastLookback))+']',\n",
    "        'Slow EMA['+str(int(slowLookback))+']','Stop Loss'],loc='upper left')\n",
    "\n",
    "    return"
   ]
  },
  {
   "cell_type": "markdown",
   "metadata": {},
   "source": [
    "We can use Monte Carlo simulations to create specific conditions and map the response of our strategy to these simulated conditions. In this way we can explore behavior of the strategy.\n",
    "\n",
    "The code immediately below creates a single instance of the portfolio on a simulated universe of 1000 stocks with independent returns. This simulation is intended to provide an idealized environment to help contextualize our historical back-test in a later section."
   ]
  },
  {
   "cell_type": "code",
   "execution_count": 71,
   "metadata": {
    "collapsed": false
   },
   "outputs": [
    {
     "name": "stderr",
     "output_type": "stream",
     "text": [
      "C:\\Users\\DerekG\\Anaconda2\\lib\\site-packages\\ipykernel\\__main__.py:77: DeprecationWarning: using a non-integer number instead of an integer will result in an error in the future\n",
      "C:\\Users\\DerekG\\Anaconda2\\lib\\site-packages\\ipykernel\\__main__.py:82: DeprecationWarning: using a non-integer number instead of an integer will result in an error in the future\n"
     ]
    }
   ],
   "source": [
    "# strategy parameters\n",
    "atrLookback=20.0\n",
    "fastLookback=120.0\n",
    "slowLookback=180.0\n",
    "atrMultiplier=10.0\n",
    "momentumLookback=90.0\n",
    "rebalanceN=20.0\n",
    "longOnly=True\n",
    "accountSize=1000000.0\n",
    "fPercent=0.005\n",
    "nPositions=30\n",
    "\n",
    "strategyInputs=dict()\n",
    "strategyInputs['pricePaths']=pricePaths\n",
    "strategyInputs['trueRangePaths']=trueRangePaths\n",
    "strategyInputs['atrLookback']=atrLookback\n",
    "strategyInputs['atrMultiplier']=atrMultiplier\n",
    "strategyInputs['fastLookback']=fastLookback\n",
    "strategyInputs['slowLookback']=slowLookback\n",
    "strategyInputs['momentumLookback']=momentumLookback\n",
    "strategyInputs['longOnly']=longOnly\n",
    "strategyInputs['accountSize']=accountSize\n",
    "strategyInputs['fPercent']=fPercent\n",
    "strategyInputs['rebalanceN']=rebalanceN\n",
    "strategyInputs['nPositions']=nPositions\n",
    "# simulate strategy\n",
    "strategyOutput=momentumCrossoverWithStopClassic(strategyInputs)"
   ]
  },
  {
   "cell_type": "markdown",
   "metadata": {},
   "source": [
    "We can get a sense of what the straegy does by inspecting the next several graphs."
   ]
  },
  {
   "cell_type": "code",
   "execution_count": 72,
   "metadata": {
    "collapsed": true
   },
   "outputs": [],
   "source": [
    "# time increment\n",
    "dt = T/nRows\n",
    "# time axis\n",
    "timeX=numpy.arange(0,T+dt,dt)"
   ]
  },
  {
   "cell_type": "markdown",
   "metadata": {},
   "source": [
    "The following code illustrates the simple trend filter (the so-called exponentially-weighted moving average crossover) and volatility-based trailing stop."
   ]
  },
  {
   "cell_type": "code",
   "execution_count": 73,
   "metadata": {
    "collapsed": false
   },
   "outputs": [
    {
     "data": {
      "image/png": "[encoded data removed]",
      "text/plain": [
       "<matplotlib.figure.Figure at 0x37153d30>"
      ]
     },
     "metadata": {},
     "output_type": "display_data"
    }
   ],
   "source": [
    "# extract the outputs\n",
    "emaFast=strategyOutput['emaFast']\n",
    "emaSlow=strategyOutput['emaSlow']\n",
    "stopLevel=strategyOutput['stopLevel']\n",
    "position=strategyOutput['position']\n",
    "# plot the price and indicators\n",
    "plotSignal(timeX,pricePaths,emaFast,emaSlow,stopLevel,position,fastLookback,slowLookback)"
   ]
  },
  {
   "cell_type": "markdown",
   "metadata": {},
   "source": [
    "After the 30 stocks with the largest 90 day momentums are selected, the strategy enters the market if the fast EMA is above the slow EMA and places a stop 10 units of volatility below the market. As the market moves up, the trailing protective stop is moved up behind the market. The strategy exits on a retracement of 10 units of volatility or when the monmentum rank of the stop is greater than 30. The portfolio is rebalanced every 20 days."
   ]
  },
  {
   "cell_type": "code",
   "execution_count": 74,
   "metadata": {
    "collapsed": false
   },
   "outputs": [
    {
     "data": {
      "image/png": "[encoded data removed]",
      "text/plain": [
       "<matplotlib.figure.Figure at 0x4170a748>"
      ]
     },
     "metadata": {},
     "output_type": "display_data"
    }
   ],
   "source": [
    "# splot the position sizes and average position size\n",
    "plotPosition(timeX,position,nPositions)"
   ]
  },
  {
   "cell_type": "markdown",
   "metadata": {},
   "source": [
    "The above graph depicts the position sizes for all traded instruments over time in addition to the average position size. The position size slowly increases over time because profit is re-invested in the strategy. As the strategy wins, position size is increased. As the strategy loses, the position size is decreased."
   ]
  },
  {
   "cell_type": "code",
   "execution_count": 75,
   "metadata": {
    "collapsed": false
   },
   "outputs": [
    {
     "data": {
      "image/png": "[encoded data removed]",
      "text/plain": [
       "<matplotlib.figure.Figure at 0x41a85b00>"
      ]
     },
     "metadata": {},
     "output_type": "display_data"
    }
   ],
   "source": [
    "# extract the outputs\n",
    "cumulativePnL=strategyOutput['cumulativePnL']\n",
    "# plot the average P&L and the P&L for each instrument in the portfolio\n",
    "plotPnL(timeX,cumulativePnL,nPositions)"
   ]
  },
  {
   "cell_type": "markdown",
   "metadata": {},
   "source": [
    "The graph immediately above illustrates the profit and loss by instrument along with the average profit and loss across all instruments. We can see that losing trades are truncated by the trailing stop, while winning trades are held until they retrace."
   ]
  },
  {
   "cell_type": "code",
   "execution_count": 76,
   "metadata": {
    "collapsed": false
   },
   "outputs": [
    {
     "data": {
      "image/png": "[encoded data removed]",
      "text/plain": [
       "<matplotlib.figure.Figure at 0x42d1c320>"
      ]
     },
     "metadata": {},
     "output_type": "display_data"
    }
   ],
   "source": [
    "# plot the total P&L for the strategy\n",
    "plotTotalPnL(timeX,cumulativePnL)"
   ]
  },
  {
   "cell_type": "markdown",
   "metadata": {},
   "source": [
    "In this particular simulation, the price returns of the instruments are independent and the drift in each market is the same. This is the ideal situation where we have many price paths with long-term trending behavior driven by a common factor, but independent short-term behavior."
   ]
  },
  {
   "cell_type": "markdown",
   "metadata": {},
   "source": [
    "# Modeling\n",
    "In the previous section, we provided an overview of our basic momentum strategy. In this section we first provide a brief overview of the theory underlying statistical factor analysis of the equity price returns in our chosen stock universe.\n",
    "\n",
    "## Theory\n",
    "In this section, we provide a brief overview the theoretical underpinnings of the modeling approach employed in our application. In particular, we provide an outline of the eigen-decomposition underlying the statistical factor analysis and outline an approach for determining how many investment components contribute to each statistical factor. We conclude this section by examining statistical factors derived from the prices returns of stocks in our investment universe, namely the S&P500.\n",
    "\n",
    "### Standardized Returns\n",
    "\n",
    "Standardization rescales a variable while preserving its order. \n",
    "\n",
    "We denote the daily return of the $i^{th}$ stock for the $m^{th}$ day as $r_{i,m}$ and define the standardized return as:\n",
    "\n",
    "$$\\hat{r}{i,m}=\\frac{\\left( r{i,m}-\\bar{r}{i,M}\\right)}{\\sigma(r{i,M})}$$\n",
    "\n",
    "Where\n",
    "\n",
    "$\\hat{r}_{i,m}$ is the standardized return of the $i^{th}$ stock for the $m^{th}$ day using data over the time interval one to $M$\n",
    "\n",
    "$r_{i,m}$ is the observed return of the $i^{th}$ stock for the $m^{th}$ day\n",
    "\n",
    "$\\bar{r}{i,M}=\\frac{1}{M}\\sum{m=1}^{M}\\left(\\hat{r}_{m}\\right)$ is the mean of the return stream of the $i^{th}$ investment over the time interval one to $M$\n",
    "\n",
    "$\\sigma(r_{i,M})=$ is the standard deviation of the returns for the $i^{th}$ stock over the time interval one to $M$\n",
    "\n",
    "### Correlations\n",
    "\n",
    "We represent the standardized returns as an $I$ x $M$ matrix $\\hat{R}$ with an empirical correlation matrix $C$ defined as:\n",
    "\n",
    "$$C = \\frac{1}{M}\\hat{R}\\hat{R}^{T}$$\n",
    "\n",
    "Where\n",
    "\n",
    "$T$ denotes the matrix transform\n",
    "\n",
    "The correlation matrix ($C$) of returns ($\\hat{R}$) and the covariance matrix ($\\Sigma_{\\hat{R}}$) of standardized returns ($\\hat{R}$) are identical.\n",
    "\n",
    "## Principal Component Analysis (PCA)\n",
    "\n",
    "The objective of principal component analysis (PCA) is to find a linear transformation $\\Omega$ that maps a set of observed variables $\\hat{R}$ into a set of uncorrelated variables $F$. We define the $I$ x $M$ statistical factor matrix as\n",
    "\n",
    "$$F = \\Omega\\hat{R}$$\n",
    "\n",
    "Where each row $f_{k}$ ($k = 1, \\dots ,N$) corresponds to a factor $F$ of $\\hat{R}$ and the transformation matrix $\\Omega$ has elements $\\omega_{k,i}$. The first row of $\\omega_{1}$ (which contains the first set of factor coefficients or 'loadings') is chosen such that the first factor ($f_{1}$) is aligned with the direction of maximal variance in the $I$-dimensional space defined by $\\hat{R}$. Each subsequent factor ($f_{k}$) accounts for as much of the remaining variance of the standardized returns $\\hat{R}$ as possible, subject to the constraint that the $\\omega_{k}$ are mutually orthogonal. The vectors $\\omega_{k}$ are further constrained by requiring that $\\omega_{k}\\omega_{k}^{T}=1$ for all $k$.\n",
    "\n",
    "The correlation matrix $C$ is an $I$ x $I$ diagonalizable symmetric matrix that can be written in the form\n",
    "\n",
    "$$C = \\frac{1}{M}EDE^{T}$$\n",
    "\n",
    "Where $D$ is a diagonal matrix of eigenvalues $d$ and $E$ is an orthogonal matrix of the corresponding eigenvectors.\n",
    "\n",
    "The eigenvectors of the correlation matrix $C$ correspond to the directions of maximal variance such that $\\Omega=E^{T}$. Statistical factors / principal components $F$ are found using the diagonalization above. \n",
    "\n",
    "If the sign of every coefficient in a statistical factor $f_{k}$ is reversed, neither the variance of $f_{k}$ nor the orthogonality of $\\omega$ with respect to each of the other eigenvectors changes. For this reason, the signs of factors (PCs) are arbitrary. This feature of PCA can be problematic when we are interested in the temporal evolution of factors.\n",
    "\n",
    "### Proportion of Variance\n",
    "The covariance matrix $\\Sigma_{F}$ for the statistical factor matrix $F$ can be written as:\n",
    "\n",
    "$$\\Sigma_{F}=\\frac{1}{M}FF^{T}=\\frac{1}{M}\\Omega\\hat{R}\\hat{R}^{T} \\Omega^{T} = D$$\n",
    "\n",
    "Where $D$ is the diagonal matrix of eigenvalues $d$.\n",
    "\n",
    "The total variance of the standardized returns $\\hat{R}$ for the $I$ stocks is then\n",
    "\n",
    "$$\\sum_{i=1}^{I}\\sigma^{2}(\\hat{r}{i})=tr(\\Sigma{\\hat{R}})=\\sum_{i=1}^{I}d_{i}=\\sum_{i=1}^{N}\\sigma^{2}(f_{i})=tr(D)=I$$\n",
    "\n",
    "Where $\\Sigma_{\\hat{R}}$ is the covariance matrix for $\\hat{R}$ \n",
    "\n",
    "$\\sigma^{2}(\\hat{r_{i}})=1$ is the variance of the vector $\\hat{r_{i}}$ of standardized returns for investment $i$.\n",
    "\n",
    "The proportion of the total variance in $\\hat{R}$ explained by the $k^{th}$ factor is then\n",
    "\n",
    "$$\\frac{\\sigma^{2}(f_{k})}{\\Sigma_{i=1}^{I}\\sigma^{2}(\\hat{r_{i}})}=\\frac{d_{k}}{\\Sigma_{i=1}^{I}d_{k}}=\\frac{d_{k}}{I}$$\n",
    "\n",
    "The proportion of the variance from the $k^{th}$ factor is equal to the ratio of the $k^{th}$ largest eigenvalue $d_{k}$ to the number of investments $I$.\n",
    "\n",
    "### Number of Significant Components\n",
    "\n",
    "To determine how many statistical factors are needed to describe the correlations between investments, many methods have been proposed. There is no widespread agreement on an optimal approach. In this paper we focus on the first factor where we are able to find a clear economic interpretation (i.e., the common equity market factor)\n",
    "\n",
    "### Significant Statistical Factor Coefficients\n",
    "\n",
    "An increase in the variance associated with a factor can be the result of increases in the correlations among only a few single stocks (which then have large factor coefficients) or an effect in which many single stocks make significant contributions to the factor. Since the two types of changes have very different implications for portfolio management, this distinction is critically important. It becomes much more difficult to reduce risk by diversifying across different single stocks when correlations between all single stocks increase. In contrast, increases in correlations within a sector when correlations between different sectors are not increasing have a less significant impact on diversification.\n",
    "\n",
    "### Inverse Participation Ratio (IPR)\n",
    "The inverse participation ratio $IPR_{k}$ of the $k^{th}$ factor $\\omega_{k}$ is defined as:\n",
    "\n",
    "$$IPR_{k}=\\sum_{i=1}^{I}\\left( \\omega_{k,i}\\right)^{4}$$\n",
    "\n",
    "The IPR quantifies the reciprocal of the number of elements that make a significant contribution to each eigenvector.\n",
    "\n",
    "The behavior of the IPR is bounded by two cases:\n",
    "\n",
    "[1] An eigenvector with identical contributions $\\omega_{k,i}=\\frac{1}{\\sqrt{I}}$ from all $I$ investments has $IPR_{k}=\\frac{1}{I}$\n",
    "\n",
    "[2] An eigenvector with a single factor $\\omega_{k,i}=1$ and remaining factors equal to zero has $IPR=1$\n",
    "\n",
    "The inverse of the IPR - the so-called participation ratio - provides a more intuitive measure of the significance of a given factor as a large $PR$ indicates that many investments contribute to the factor, while a small $PR$ signals that few investments contribute to the factor:\n",
    "\n",
    "$$PR = \\frac{1}{IPR_{k}}$$\n",
    "\n",
    "The participation ratio quantifies the number of eigenvector (loading) components that participate in a factor and provides a measure of concentration.\n",
    "\n",
    "The bigger a $PR$ is, the more participants the statistical factor has, the more uniformly distributed the participation is, and the more correlations are driven by the statistical factor.\n",
    "\n",
    "Participation ratios facilitate the identification of statistical factors that represent macroeconomic scenarios, namely those with with many participants. They also help us identify factors that represent micro-economic scenarios, namely factors with few participants."
   ]
  },
  {
   "cell_type": "markdown",
   "metadata": {},
   "source": [
    "## Application: Exploring the Dependence Between Stocks Using PCA\n",
    "In this section we explore the dependence between stocks in our investment universe using the measure described above.\n",
    "\n",
    "The following functions implements the participation and inverse participation ratios:"
   ]
  },
  {
   "cell_type": "code",
   "execution_count": 55,
   "metadata": {
    "collapsed": true
   },
   "outputs": [],
   "source": [
    "# define the inverse participation ratio (IPR)\n",
    "def inverseParticipationRatio(k,omega):\n",
    "  # find the IPR\n",
    "  IPR=numpy.sum(omega[:,k]**4)\n",
    "  # return the IPR\n",
    "  return IPR\n",
    "\n",
    "# define the participation ratio (PR)\n",
    "def PR(k,omega):\n",
    "  # find the IPR\n",
    "  IPR=inverseParticipationRatio(k,omega)\n",
    "  # take the inverse of the IPR\n",
    "  PR=1/IPR\n",
    "  # return the PR\n",
    "  return PR"
   ]
  },
  {
   "cell_type": "markdown",
   "metadata": {},
   "source": [
    "We first compute the price returns for each stock in our cleaned universe."
   ]
  },
  {
   "cell_type": "code",
   "execution_count": 56,
   "metadata": {
    "collapsed": false
   },
   "outputs": [],
   "source": [
    "# compute the price returns\n",
    "priceReturns=cleanPrices.pct_change()"
   ]
  },
  {
   "cell_type": "markdown",
   "metadata": {},
   "source": [
    "Next we standardize the returns:"
   ]
  },
  {
   "cell_type": "code",
   "execution_count": 57,
   "metadata": {
    "collapsed": true
   },
   "outputs": [],
   "source": [
    "T,nInstruments=priceReturns.shape\n",
    "meanReturns = numpy.mean(priceReturns.values[1:-1,:],axis=0)\n",
    "stdReturns = numpy.std(priceReturns.values[1:-1,:],ddof=1,axis=0)\n",
    "normalizedReturns=(priceReturns.values[1:-1,:]-meanReturns)/stdReturns"
   ]
  },
  {
   "cell_type": "markdown",
   "metadata": {},
   "source": [
    "We now compute the correlations between stocks and do the eigendecomposition:"
   ]
  },
  {
   "cell_type": "code",
   "execution_count": 58,
   "metadata": {
    "collapsed": true
   },
   "outputs": [],
   "source": [
    "C=numpy.cov(normalizedReturns,rowvar=0)\n",
    "# compute the eigendecomposition\n",
    "eigenvalues,eigenvectors=numpy.linalg.eig(C)\n",
    "# sort the eigenvalues and eigenvalues\n",
    "sortindex=numpy.argsort(-eigenvalues)\n",
    "eigenvalues=eigenvalues[sortindex]\n",
    "eigenvectors=eigenvectors[:,sortindex]"
   ]
  },
  {
   "cell_type": "markdown",
   "metadata": {},
   "source": [
    "We determine the proportion of variance explained by each statistical factor as follows:"
   ]
  },
  {
   "cell_type": "code",
   "execution_count": 59,
   "metadata": {
    "collapsed": false
   },
   "outputs": [
    {
     "name": "stdout",
     "output_type": "stream",
     "text": [
      "[ 0.43309119  0.46617202  0.49369426  0.51192059  0.52404187  0.53338539\n",
      "  0.54191942  0.54905549  0.55584022  0.56154291  0.56716718  0.57186216\n",
      "  0.57622623  0.58036022  0.58436659  0.58823744  0.59197443  0.59553778\n",
      "  0.59893347  0.6022483 ]\n"
     ]
    }
   ],
   "source": [
    "proportionOfVariance=eigenvalues/len(eigenvalues)\n",
    "explainedVariance=numpy.cumsum(proportionOfVariance)\n",
    "print(explainedVariance[0:20])"
   ]
  },
  {
   "cell_type": "markdown",
   "metadata": {},
   "source": [
    "We can see that the first factor explains 43% of the daily variation in our chosen equity universe."
   ]
  },
  {
   "cell_type": "code",
   "execution_count": 60,
   "metadata": {
    "collapsed": false
   },
   "outputs": [
    {
     "data": {
      "text/plain": [
       "<matplotlib.text.Text at 0x377247f0>"
      ]
     },
     "execution_count": 60,
     "metadata": {},
     "output_type": "execute_result"
    },
    {
     "data": {
      "image/png": "[encoded data removed]",
      "text/plain": [
       "<matplotlib.figure.Figure at 0x41718240>"
      ]
     },
     "metadata": {},
     "output_type": "display_data"
    }
   ],
   "source": [
    "plt.bar(numpy.arange(1,6),proportionOfVariance[0:5])\n",
    "plt.xlabel('Factor (#)')\n",
    "plt.ylabel('Proportion Of Variance')\n",
    "plt.title('Proportion of Variance Explained By First 5 Factors')"
   ]
  },
  {
   "cell_type": "markdown",
   "metadata": {},
   "source": [
    "We can also see from the participation ratio that the almost all stocks in the universe contribute to the first factor."
   ]
  },
  {
   "cell_type": "code",
   "execution_count": 61,
   "metadata": {
    "collapsed": false
   },
   "outputs": [
    {
     "data": {
      "text/plain": [
       "<matplotlib.text.Text at 0x42425ba8>"
      ]
     },
     "execution_count": 61,
     "metadata": {},
     "output_type": "execute_result"
    },
    {
     "data": {
      "image/png": "[encoded data removed]",
      "text/plain": [
       "<matplotlib.figure.Figure at 0x416fcb00>"
      ]
     },
     "metadata": {},
     "output_type": "display_data"
    }
   ],
   "source": [
    "participationRatio=numpy.zeros([nInstruments,1])\n",
    "\n",
    "for factorIndex in range(0,nInstruments):\n",
    "    participationRatio[factorIndex]=PR(factorIndex,eigenvectors)\n",
    "\n",
    "plt.bar(numpy.arange(1,20+1),participationRatio[0:20])\n",
    "plt.ylabel('Participation Ratio')\n",
    "plt.xlabel('Factor (#)')\n",
    "plt.title('Participation Ratio By Factor')"
   ]
  },
  {
   "cell_type": "markdown",
   "metadata": {},
   "source": [
    "Recall that the participation ratio represents the number of stocks that make a significant contribution to the statistical factor. With almost all stocks contributing significantly to the first factor it is clear that this factor represents the common co-movement across stocks."
   ]
  },
  {
   "cell_type": "markdown",
   "metadata": {},
   "source": [
    "### Sensitivity to Trend"
   ]
  },
  {
   "cell_type": "markdown",
   "metadata": {},
   "source": [
    "In this section, we explore the response of our strategy to market conditions. In particular, we map the relationship between the magnitude of directinal movement (i.e., the trend) of the underlying markets and the P&L of the strategy. "
   ]
  },
  {
   "cell_type": "markdown",
   "metadata": {},
   "source": [
    "The following function is used to compute sensitivity of the momentum strategy to different drift scenarios."
   ]
  },
  {
   "cell_type": "code",
   "execution_count": 77,
   "metadata": {
    "collapsed": false
   },
   "outputs": [],
   "source": [
    "def momentumCrossoverSensitivity(sensitivityInputs):\n",
    "    # extract strategy inputs\n",
    "    S0=sensitivityInputs['S0']\n",
    "    sigma=sensitivityInputs['sigma']\n",
    "    T=sensitivityInputs['T']\n",
    "    nRows=sensitivityInputs['nRows']\n",
    "    nPaths=sensitivityInputs['nPaths']\n",
    "    minDrift=sensitivityInputs['minDrift']\n",
    "    maxDrift=sensitivityInputs['maxDrift']\n",
    "    nScenarios=sensitivityInputs['nScenarios']\n",
    "    atrLookback=sensitivityInputs['atrLookback']\n",
    "    atrMultiplier=sensitivityInputs['atrMultiplier']\n",
    "    fastLookback=sensitivityInputs['fastLookback']\n",
    "    slowLookback=sensitivityInputs['slowLookback']\n",
    "    momentumLookback=sensitivityInputs['momentumLookback']\n",
    "    longOnly=sensitivityInputs['longOnly']\n",
    "    accountSize=sensitivityInputs['accountSize']\n",
    "    fPercent=sensitivityInputs['fPercent']\n",
    "    rebalanceN=sensitivityInputs['rebalanceN']\n",
    "    nPositions=sensitivityInputs['nPositions']   \n",
    "    \n",
    "    # create the drift scenarios\n",
    "    driftScenario=numpy.linspace(minDrift,maxDrift,nScenarios)\n",
    "\n",
    "    # create the output arrays\n",
    "    sensitivityPnL=numpy.zeros([int(nScenarios),int(nPaths)])\n",
    "    for scenarioIndex in range(0,int(nScenarios)):\n",
    "        # simulate scenarios price paths\n",
    "        pricePaths=assetPaths(S0,driftScenario[scenarioIndex],sigma,T,nRows,nPaths)\n",
    "        # create true range\n",
    "        trueRangePaths=numpy.concatenate((numpy.zeros((1,int(nPaths))),abs(numpy.diff(pricePaths,axis=0))))        \n",
    "        # build strategy input data structure\n",
    "        strategyInputs=dict()\n",
    "        strategyInputs['pricePaths']=pricePaths\n",
    "        strategyInputs['trueRangePaths']=trueRangePaths\n",
    "        strategyInputs['atrLookback']=atrLookback\n",
    "        strategyInputs['atrMultiplier']=atrMultiplier\n",
    "        strategyInputs['fastLookback']=fastLookback\n",
    "        strategyInputs['slowLookback']=slowLookback\n",
    "        strategyInputs['momentumLookback']=momentumLookback\n",
    "        strategyInputs['longOnly']=longOnly\n",
    "        strategyInputs['accountSize']=accountSize\n",
    "        strategyInputs['fPercent']=fPercent\n",
    "        strategyInputs['rebalanceN']=rebalanceN\n",
    "        strategyInputs['nPositions']=nPositions\n",
    "        # simulate strategy\n",
    "        strategyOutput=momentumCrossoverWithStopClassic(strategyInputs)        \n",
    "        # extract strategy output\n",
    "        cumulativePnL=strategyOutput['cumulativePnL']\n",
    "\n",
    "        sensitivityPnL[scenarioIndex,:]=cumulativePnL[-1,:]\n",
    "    \n",
    "    return sensitivityPnL,driftScenario"
   ]
  },
  {
   "cell_type": "markdown",
   "metadata": {},
   "source": [
    "The following function is used to graph the relationship between the drift and the P&L of the momentum strategy."
   ]
  },
  {
   "cell_type": "code",
   "execution_count": 78,
   "metadata": {
    "collapsed": false
   },
   "outputs": [],
   "source": [
    "def mapMomentumCrossover(sensitivityInputs):\n",
    "    # set the long-only flag\n",
    "    sensitivityInputs['longOnly']=True\n",
    "    # compute the long-only sensitivity\n",
    "    sensitivityPnL_L,driftScenario_L=momentumCrossoverSensitivity(sensitivityInputs)\n",
    "    # set the long-only flag to long/short\n",
    "    sensitivityInputs['longOnly']=False\n",
    "    # compute the long/short sensitivity\n",
    "    sensitivityPnL_LS,driftScenario_LS=momentumCrossoverSensitivity(sensitivityInputs)\n",
    "    # extract the parameters\n",
    "    sigma=sensitivityInputs['sigma']\n",
    "    T=sensitivityInputs['T']\n",
    "    S0=sensitivityInputs['S0']\n",
    "    nPaths=sensitivityInputs['nPaths']    \n",
    "    # create the figure\n",
    "    fig = plt.figure()\n",
    "    plt.plot(driftScenario_L,numpy.sum(sensitivityPnL_L,axis=1),label='Long-Only')\n",
    "    plt.plot(driftScenario_LS,numpy.sum(sensitivityPnL_LS,axis=1),label='Long/Short')\n",
    "    plt.xlabel(\"Drift ($\\mu$)\",fontsize=10)\n",
    "    plt.ylabel(\"P&L\",fontsize=10)\n",
    "    plt.title('Sensitivity \\n ($\\sigma$='+str(sigma)+',T='+str(T)+',S0='+str(S0)+',nPaths='+str(nPaths)+')',fontsize=10)\n",
    "    plt.grid(True)\n",
    "    plt.legend(['Long-Only','Long/Short'],loc='lower right')    \n",
    "            \n",
    "    return"
   ]
  },
  {
   "cell_type": "markdown",
   "metadata": {
    "collapsed": true
   },
   "source": [
    "First we initialize the simulation parameters:"
   ]
  },
  {
   "cell_type": "code",
   "execution_count": 80,
   "metadata": {
    "collapsed": true
   },
   "outputs": [],
   "source": [
    "# strategy parameters\n",
    "atrLookback=20.0\n",
    "fastLookback=120.0\n",
    "slowLookback=180.0\n",
    "atrMultiplier=10.0\n",
    "momentumLookback=90.0\n",
    "rebalanceN=20.0\n",
    "longOnly=True\n",
    "accountSize=1000000.0\n",
    "fPercent=0.005\n",
    "nPositions=30.0\n",
    "\n",
    "# price simulation parameters\n",
    "S0=100.0\n",
    "mu=0.1\n",
    "sigma=0.1\n",
    "T=3.0\n",
    "nRows=750.0\n",
    "nPaths=1000.0\n",
    "\n",
    "# drfit sensitivity parameters\n",
    "minDrift=-0.3\n",
    "maxDrift=0.3\n",
    "nScenarios=10"
   ]
  },
  {
   "cell_type": "markdown",
   "metadata": {},
   "source": [
    "Then we map the relationship between the magnitude of the typical directional movement and the momentum strategy P&L."
   ]
  },
  {
   "cell_type": "code",
   "execution_count": 81,
   "metadata": {
    "collapsed": false
   },
   "outputs": [
    {
     "name": "stderr",
     "output_type": "stream",
     "text": [
      "C:\\Users\\DerekG\\Anaconda2\\lib\\site-packages\\ipykernel\\__main__.py:77: DeprecationWarning: using a non-integer number instead of an integer will result in an error in the future\n",
      "C:\\Users\\DerekG\\Anaconda2\\lib\\site-packages\\ipykernel\\__main__.py:82: DeprecationWarning: using a non-integer number instead of an integer will result in an error in the future\n"
     ]
    },
    {
     "data": {
      "image/png": "[encoded data removed]",
      "text/plain": [
       "<matplotlib.figure.Figure at 0x42083da0>"
      ]
     },
     "metadata": {},
     "output_type": "display_data"
    }
   ],
   "source": [
    "# create the input structure\n",
    "sensitivityInputs=dict()\n",
    "sensitivityInputs['S0']=S0\n",
    "sensitivityInputs['sigma']=sigma\n",
    "sensitivityInputs['T']=T\n",
    "sensitivityInputs['nRows']=nRows\n",
    "sensitivityInputs['nPaths']=nPaths\n",
    "sensitivityInputs['minDrift']=minDrift\n",
    "sensitivityInputs['maxDrift']=maxDrift\n",
    "sensitivityInputs['nScenarios']=nScenarios\n",
    "sensitivityInputs['atrLookback']=atrLookback\n",
    "sensitivityInputs['atrMultiplier']=atrMultiplier\n",
    "sensitivityInputs['fastLookback']=fastLookback\n",
    "sensitivityInputs['slowLookback']=slowLookback\n",
    "sensitivityInputs['momentumLookback']=momentumLookback\n",
    "sensitivityInputs['accountSize']=accountSize\n",
    "sensitivityInputs['fPercent']=fPercent\n",
    "sensitivityInputs['rebalanceN']=rebalanceN\n",
    "sensitivityInputs['nPositions']=nPositions\n",
    "# create the sensitivities\n",
    "mapMomentumCrossover(sensitivityInputs)"
   ]
  },
  {
   "cell_type": "markdown",
   "metadata": {},
   "source": [
    "In the above sensitivity graph, the x-axis represents the drift ($\\mu$) in prices (i.e., the trend), while the y-axis represents profit and loss (P&L) of the strategy. For the 'long-only' strategy we can see that the strategy performs well when the market is rising, but is flat or negative when the market is falling. For the 'long/short' strategy we can see that the strategy performs well when the market is either rising or falling sharply, but loses when the market does not move much.\n",
    "\n",
    "Increasing transaction costs shift the profile down, increasing the magnitude of directional movement required for the strategy to be profitable.\n",
    "\n",
    "In the next section we conduct a limited historical back-test."
   ]
  },
  {
   "cell_type": "markdown",
   "metadata": {},
   "source": [
    "## Momentum Strategy Backtest"
   ]
  },
  {
   "cell_type": "markdown",
   "metadata": {},
   "source": [
    "In this section of the paper we use the cleaned prices to backtest our strategy. No parameter optimization is done. Instead, we select parameters that are commonly used. We focus on the general behavior of strategy."
   ]
  },
  {
   "cell_type": "code",
   "execution_count": 82,
   "metadata": {
    "collapsed": false
   },
   "outputs": [],
   "source": [
    "#load the clean prices and true ranges\n",
    "\n",
    "# set the back-test prices and true ranges\n",
    "backtestPrices=cleanPrices.values[1:-1,:]\n",
    "backtestTrueRanges=cleanTrueRanges.values[1:-1,:]"
   ]
  },
  {
   "cell_type": "code",
   "execution_count": 83,
   "metadata": {
    "collapsed": false
   },
   "outputs": [
    {
     "name": "stderr",
     "output_type": "stream",
     "text": [
      "C:\\Users\\DerekG\\Anaconda2\\lib\\site-packages\\ipykernel\\__main__.py:52: DeprecationWarning: using a non-integer number instead of an integer will result in an error in the future\n"
     ]
    }
   ],
   "source": [
    "# strategy parameters\n",
    "atrLookback=20.0\n",
    "fastLookback=120.0\n",
    "slowLookback=150.0\n",
    "atrMultiplier=10.0\n",
    "momentumLookback=90.0\n",
    "rebalanceN=20.0\n",
    "longOnly=True\n",
    "accountSize=1000000.0\n",
    "fPercent=0.005\n",
    "nPositions=20\n",
    "\n",
    "strategyInputs=dict()\n",
    "strategyInputs['pricePaths']=backtestPrices\n",
    "strategyInputs['trueRangePaths']=backtestTrueRanges\n",
    "strategyInputs['atrLookback']=atrLookback\n",
    "strategyInputs['atrMultiplier']=atrMultiplier\n",
    "strategyInputs['fastLookback']=fastLookback\n",
    "strategyInputs['slowLookback']=slowLookback\n",
    "strategyInputs['momentumLookback']=momentumLookback\n",
    "strategyInputs['longOnly']=longOnly\n",
    "strategyInputs['accountSize']=accountSize\n",
    "strategyInputs['fPercent']=fPercent\n",
    "strategyInputs['rebalanceN']=rebalanceN\n",
    "strategyInputs['nPositions']=nPositions\n",
    "# simulate strategy\n",
    "strategyOutput=momentumCrossoverWithStop(strategyInputs)"
   ]
  },
  {
   "cell_type": "markdown",
   "metadata": {},
   "source": [
    "The P&L by instrument looks similar to our Monte "
   ]
  },
  {
   "cell_type": "code",
   "execution_count": 84,
   "metadata": {
    "collapsed": false
   },
   "outputs": [
    {
     "data": {
      "image/png": "[encoded data removed]",
      "text/plain": [
       "<matplotlib.figure.Figure at 0x42bc3048>"
      ]
     },
     "metadata": {},
     "output_type": "display_data"
    }
   ],
   "source": [
    "# extract the outputs\n",
    "cumulativePnL=strategyOutput['cumulativePnL']\n",
    "# plot the total P&L for the strategy\n",
    "timeX=numpy.arange(0,cumulativePnL.shape[0])\n",
    "plotPnL(timeX,cumulativePnL,nPositions)"
   ]
  },
  {
   "cell_type": "markdown",
   "metadata": {},
   "source": [
    "In the above graph we see that the profile of the momentum strategy applied to our chosen equity universe appears similar to the profile that emerged in our Monte Carlo simulations. Losing trades are truncated by our trailing stop loss, while winning trades are allowed to run."
   ]
  },
  {
   "cell_type": "code",
   "execution_count": 85,
   "metadata": {
    "collapsed": false
   },
   "outputs": [
    {
     "data": {
      "image/png": "[encoded data removed]",
      "text/plain": [
       "<matplotlib.figure.Figure at 0x41b71c18>"
      ]
     },
     "metadata": {},
     "output_type": "display_data"
    }
   ],
   "source": [
    "timeX=numpy.arange(0,cumulativePnL.shape[0])\n",
    "plotTotalPnL(timeX,cumulativePnL)"
   ]
  },
  {
   "cell_type": "markdown",
   "metadata": {
    "collapsed": true
   },
   "source": [
    "Notice that the performance of our strategy is much rougher than the performance arrived at using Monte Carlo simulations. This difference in behavior reflects key features of real markets that can be exploited by adjusting our strategy to reduce positions as the importance of the first statistical factor increases over time. The high level of cross-dependence in the returns of our holdings likely contributes significantly to the volatility of our results."
   ]
  },
  {
   "cell_type": "markdown",
   "metadata": {},
   "source": [
    "## Conclusion"
   ]
  },
  {
   "cell_type": "markdown",
   "metadata": {
    "collapsed": true
   },
   "source": [
    "Unfortunately, the quality of publicly available data significantly limited our ability to construct a research-ready equity database for strategy back-testing. Full walk-forward testing with factor-based risk and performance attribution was abandoned in favor of sensitivity analysis as a way of limiting the impact of low quality data on the project. A basic momentum strategy was implemented and sensitivities were developed to illustrate the characteristics of the strategy. This basic infrastructure can be extended in the future to include all the components of a full back-testing engine for use with higher quality data. In particular, the strategy code can be optimized using either Cython or Numba."
   ]
  },
  {
   "cell_type": "markdown",
   "metadata": {
    "collapsed": true
   },
   "source": [
    "## References\n",
    "\n",
    "[1] C. Bacon [2008], Practical Portfolio Performance Measurement and Attribution, $2^{nd}$ Ed, John Wiley & Sons, Inc.\n",
    "\n",
    "[2] A. F. Clenow [2015], Stocks on the Move: Beating the Market with Hedge Fund Momentum Strategies, CreateSpace Independent Publishing\n",
    "\n",
    "[3] A. F. Clenow [2013], Following the Trend: Diversified Managed Futures Trading, John Wiley & Sons, Inc.\n",
    "\n",
    "[4] D. J. Fenn, N. F. Johnson, N. S. Jones, M. McDonald, M. A. Porter, S. Williams [2011], Temporal evolution of financial-market correlations, Physical Review E 84, 026109\n",
    "\n",
    "[5] F. J. Fabozzi, S. M. Focardi, P. N. Kolm [2010], Quantitative Equity Investing: Techniques and Strategies (Frank J. Fabozzi Series), John Wiley & Sons, Inc.\n",
    "\n",
    "[6] N. Fenton, M. Neil [2013], Risk Assessment and Decision Analysis With Bayesian Networks, CRC Press\n",
    "\n",
    "[7] A. Greyserman  and K. Kaminski [2013], Trend Following with Managed Futures: The Search for Crisis Alpha, John Wiley & Sons, Inc.\n",
    "\n",
    "[8] A. Golub and Z. Guo [2012], Correlation Stress Tests Under the Random Matrix Theory: An Empirical Implementation to the Chinese Market\n",
    "\n",
    "[9] R. H. Hua, E. E. Qian, and E. H. Sorensen [2007], Quantitative Equity Portfolio Management: Modern Techniques and Applications, Chapman and Hall/CRC Financial Mathematics Series\n",
    "\n",
    "[10] D. Koller, N. Friedman [2009], Probabilistic graphical models: principles and techniques, MIT press.\n",
    "\n",
    "[11] A Meucci [2009], Risk and Asset Allocation, $1^{st}$ Ed, Springer Berlin Heidelberg\n",
    "\n",
    "[12] N. D. Pearson [2002], Risk Budgeting: Portfolio Problem Solving with Value-at-Risk, John Wiley & Sons, Inc. \n",
    "\n",
    "[13] R. Rebonato [2010], Plight of the Fortune Tellers: Why We Need to Manage Financial Risk Differently, Princeton University Press\n",
    "\n",
    "[14] R. Rebonato [2010], Coherent Stress Testing: A Bayesian Approach to the Analysis of Financial Stress , John Wiley & Sons, Inc.\n",
    "\n",
    "[15] R. Rebonato and A. Denev [2014], Portfolio Management Under Stress: A Bayesian-net Approach to Coherent Asset Allocation, Cambridge University Press\n",
    "\n",
    "[15] D. Skillicorn [2007], Understanding Complex Datasets: Data Mining with Matrix Decompositions, Chapman and Hall/CRC\n",
    "\n",
    "[16] R. Vince [2007], The Handbook of Portfolio Mathematics: Formulas for Optimal Allocation and Leverage, John Wiley & Sons, Inc.\n",
    "\n",
    "[17] F. J. Fabozzi, S. M. Focardi, and P. N. Kolm [2010], Quantitative Equity Investing: Techniques and Strategies, John Wiley & Sons, Inc."
   ]
  },
  {
   "cell_type": "markdown",
   "metadata": {
    "collapsed": true
   },
   "source": [
    "# Appendix: GitHub Repository\n",
    "All of the Python code used to produce this paper can be found in the following github repository:\n",
    "\n",
    "https://github.com/dgn2/IS_602.git\n",
    "\n",
    "The github repository also contains this Jupyter notebook file, the HDF5 project data file, and includes code to:\n",
    "\n",
    "* Extract the historical iShares S&P500 holdings files\n",
    "\n",
    "* Create and load the historical iShares holdings to a MySQL database\n",
    "\n",
    "* conduct limited exploratory analysis of the data\n",
    "\n",
    "* conduct limited cleaning of the data used in subsequent statical modeling\n",
    "\n",
    "* estimate statistical factors based on the price returns of a select portion of the S&P500 universe\n",
    "\n",
    "* compute sensitivities\n"
   ]
  }
 ],
 "metadata": {
  "kernelspec": {
   "display_name": "Python 2",
   "language": "python",
   "name": "python2"
  },
  "language_info": {
   "codemirror_mode": {
    "name": "ipython",
    "version": 2
   },
   "file_extension": ".py",
   "mimetype": "text/x-python",
   "name": "python",
   "nbconvert_exporter": "python",
   "pygments_lexer": "ipython2",
   "version": "2.7.11"
  }
 },
 "nbformat": 4,
 "nbformat_minor": 0
}
